{
 "cells": [
  {
   "cell_type": "code",
   "execution_count": 1,
   "id": "665e21ce",
   "metadata": {},
   "outputs": [],
   "source": [
    "import pandas as pd"
   ]
  },
  {
   "cell_type": "code",
   "execution_count": 4,
   "id": "7b9fa840",
   "metadata": {},
   "outputs": [],
   "source": [
    "seeds = pd.read_csv(\"MNCAATourneySeeds.csv\")"
   ]
  },
  {
   "cell_type": "code",
   "execution_count": 9,
   "id": "65dd0055",
   "metadata": {},
   "outputs": [],
   "source": [
    "import json\n",
    "with open(\"output/kaggle_map.json\",'r') as f:\n",
    "    kaggle_map = json.load(f)"
   ]
  },
  {
   "cell_type": "code",
   "execution_count": 11,
   "id": "fd48cfc7",
   "metadata": {},
   "outputs": [],
   "source": [
    "with open(\"output/espn_teams.json\", 'r') as f:\n",
    "    espn_teams = json.load(f)"
   ]
  },
  {
   "cell_type": "code",
   "execution_count": 15,
   "id": "cd69849d",
   "metadata": {},
   "outputs": [],
   "source": [
    "for idx, row in seeds.iterrows():\n",
    "    id_ = row.TeamID\n",
    "    espn_id = kaggle_map[str(id_)]\n",
    "    espn_name = espn_teams[espn_id]\n",
    "    seeds.loc[idx,\"Name\"] = espn_name.get(\"name\")"
   ]
  },
  {
   "cell_type": "code",
   "execution_count": 17,
   "id": "f69f5924",
   "metadata": {},
   "outputs": [],
   "source": [
    "seeds.to_csv(\"seeds.csv\")"
   ]
  },
  {
   "cell_type": "code",
   "execution_count": 42,
   "id": "bfc7a244",
   "metadata": {},
   "outputs": [
    {
     "name": "stdout",
     "output_type": "stream",
     "text": [
      "2023_1222_1397\n",
      "Tennessee Volunteers - 1397 : Houston Cougars - 1222 : \n",
      "\n"
     ]
    }
   ],
   "source": [
    "for char in ['W']:\n",
    "    dfs = []\n",
    "    dfs.append(seeds[seeds.Seed.isin([f'Y01', f'W04'])])\n",
    "    \n",
    "    for df in dfs:\n",
    "        s = \"2023_\"\n",
    "        t = \"\"\n",
    "        ids = []\n",
    "        for _, row in seeds.iterrows():\n",
    "            ids.append(str(row.TeamID))\n",
    "            t += f\"{row.Name} - {row.TeamID} : \"\n",
    "        s += \"_\".join(sorted(ids))\n",
    "        print(s)\n",
    "        print(t)\n",
    "        \n",
    "    print()\n",
    "\n"
   ]
  },
  {
   "cell_type": "code",
   "execution_count": 47,
   "id": "7fa0bb01",
   "metadata": {},
   "outputs": [
    {
     "name": "stdout",
     "output_type": "stream",
     "text": [
      "['1345 - Purdue Boilermakers',\n",
      " '1266 - Marquette Golden Eagles',\n",
      " '1243 - Kansas State Wildcats',\n",
      " '1397 - Tennessee Volunteers',\n",
      " '1181 - Duke Blue Devils',\n",
      " '1246 - Kentucky Wildcats',\n",
      " '1277 - Michigan State Spartans',\n",
      " '1272 - Memphis Tigers',\n",
      " '1194 - Florida Atlantic Owls',\n",
      " '1425 - USC Trojans',\n",
      " '1344 - Providence Friars',\n",
      " '1331 - Oral Roberts Golden Eagles',\n",
      " \"1418 - Louisiana Ragin' Cajuns\",\n",
      " '1286 - Montana State Bobcats',\n",
      " '1436 - Vermont Catamounts',\n",
      " '1192 - Fairleigh Dickinson Knights',\n",
      " '1411 - Texas Southern Tigers',\n",
      " '1104 - Alabama Crimson Tide',\n",
      " '1112 - Arizona Wildcats',\n",
      " '1124 - Baylor Bears',\n",
      " '1438 - Virginia Cavaliers',\n",
      " '1361 - San Diego State Aztecs',\n",
      " '1166 - Creighton Bluejays',\n",
      " '1281 - Missouri Tigers',\n",
      " '1268 - Maryland Terrapins',\n",
      " '1452 - West Virginia Mountaineers',\n",
      " '1429 - Utah State Aggies',\n",
      " '1301 - NC State Wolfpack',\n",
      " '1158 - Charleston Cougars',\n",
      " '1202 - Furman Paladins',\n",
      " '1364 - UC Santa Barbara Gauchos',\n",
      " '1343 - Princeton Tigers',\n",
      " '1369 - Southeast Missouri State Redhawks',\n",
      " '1394 - Texas A&M-Corpus Christi Islanders',\n",
      " '1222 - Houston Cougars',\n",
      " '1400 - Texas Longhorns',\n",
      " '1462 - Xavier Musketeers',\n",
      " '1231 - Indiana Hoosiers',\n",
      " '1274 - Miami Hurricanes',\n",
      " '1235 - Iowa State Cyclones',\n",
      " '1401 - Texas A&M Aggies',\n",
      " '1234 - Iowa Hawkeyes',\n",
      " '1120 - Auburn Tigers',\n",
      " '1336 - Penn State Nittany Lions',\n",
      " '1280 - Mississippi State Bulldogs',\n",
      " '1338 - Pittsburgh Panthers',\n",
      " '1179 - Drake Bulldogs',\n",
      " '1245 - Kent State Golden Flashes',\n",
      " '1244 - Kennesaw State Owls',\n",
      " '1159 - Colgate Raiders',\n",
      " '1297 - Northern Kentucky Norse',\n",
      " '1242 - Kansas Jayhawks',\n",
      " '1417 - UCLA Bruins',\n",
      " '1211 - Gonzaga Bulldogs',\n",
      " '1163 - UConn Huskies',\n",
      " \"1388 - Saint Mary's Gaels\",\n",
      " '1395 - TCU Horned Frogs',\n",
      " '1321 - Northwestern Wildcats',\n",
      " '1116 - Arkansas Razorbacks',\n",
      " '1228 - Illinois Fighting Illini',\n",
      " '1129 - Boise State Broncos',\n",
      " '1113 - Arizona State Sun Devils',\n",
      " '1305 - Nevada Wolf Pack',\n",
      " '1433 - VCU Rams',\n",
      " '1233 - Iona Gaels',\n",
      " '1213 - Grand Canyon Lopes',\n",
      " '1421 - UNC Asheville Bulldogs',\n",
      " '1224 - Howard Bison']\n"
     ]
    }
   ],
   "source": [
    "from pprint import pprint\n",
    "ids = []\n",
    "for _, row in seeds.iterrows():\n",
    "    s = f\"{row.TeamID} - {row.Name}\"\n",
    "    ids.append(s)\n",
    "    \n",
    "pprint(ids)"
   ]
  },
  {
   "cell_type": "code",
   "execution_count": null,
   "id": "9a68da8c",
   "metadata": {},
   "outputs": [],
   "source": []
  }
 ],
 "metadata": {
  "kernelspec": {
   "display_name": "venv38",
   "language": "python",
   "name": "venv38"
  },
  "language_info": {
   "codemirror_mode": {
    "name": "ipython",
    "version": 3
   },
   "file_extension": ".py",
   "mimetype": "text/x-python",
   "name": "python",
   "nbconvert_exporter": "python",
   "pygments_lexer": "ipython3",
   "version": "3.8.10"
  }
 },
 "nbformat": 4,
 "nbformat_minor": 5
}
