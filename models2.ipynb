{
 "cells": [
  {
   "cell_type": "code",
   "execution_count": 1,
   "metadata": {},
   "outputs": [],
   "source": [
    "import pandas as pd\n",
    "import numpy as np\n",
    "import csv\n",
    "from sklearn.model_selection import train_test_split\n",
    "import matplotlib.pyplot as plt"
   ]
  },
  {
   "cell_type": "code",
   "execution_count": 2,
   "metadata": {},
   "outputs": [
    {
     "data": {
      "text/html": [
       "<div>\n",
       "<style scoped>\n",
       "    .dataframe tbody tr th:only-of-type {\n",
       "        vertical-align: middle;\n",
       "    }\n",
       "\n",
       "    .dataframe tbody tr th {\n",
       "        vertical-align: top;\n",
       "    }\n",
       "\n",
       "    .dataframe thead th {\n",
       "        text-align: right;\n",
       "    }\n",
       "</style>\n",
       "<table border=\"1\" class=\"dataframe\">\n",
       "  <thead>\n",
       "    <tr style=\"text-align: right;\">\n",
       "      <th></th>\n",
       "      <th>YEAR</th>\n",
       "      <th>ROUND</th>\n",
       "      <th>REGION</th>\n",
       "      <th>T1ID</th>\n",
       "      <th>T1SEED</th>\n",
       "      <th>T1SCORE</th>\n",
       "      <th>T1NAME</th>\n",
       "      <th>T1PTS</th>\n",
       "      <th>T1REB</th>\n",
       "      <th>T1AST</th>\n",
       "      <th>...</th>\n",
       "      <th>T2SOS</th>\n",
       "      <th>T2SOR</th>\n",
       "      <th>T2REC</th>\n",
       "      <th>T2HREC</th>\n",
       "      <th>T2AREC</th>\n",
       "      <th>SEEDDIFF</th>\n",
       "      <th>BPIDIFF</th>\n",
       "      <th>SOSDIFF</th>\n",
       "      <th>SORDIFF</th>\n",
       "      <th>WINNER</th>\n",
       "    </tr>\n",
       "  </thead>\n",
       "  <tbody>\n",
       "    <tr>\n",
       "      <th>0</th>\n",
       "      <td>2008</td>\n",
       "      <td>1.0</td>\n",
       "      <td>1.0</td>\n",
       "      <td>153</td>\n",
       "      <td>1</td>\n",
       "      <td>113</td>\n",
       "      <td>North Carolina Tar Heels</td>\n",
       "      <td>88.7</td>\n",
       "      <td>44.2</td>\n",
       "      <td>16.7</td>\n",
       "      <td>...</td>\n",
       "      <td>246</td>\n",
       "      <td>182</td>\n",
       "      <td>0.559</td>\n",
       "      <td>0.5</td>\n",
       "      <td>0.533</td>\n",
       "      <td>-15</td>\n",
       "      <td>-169</td>\n",
       "      <td>-237</td>\n",
       "      <td>-181</td>\n",
       "      <td>0</td>\n",
       "    </tr>\n",
       "    <tr>\n",
       "      <th>1</th>\n",
       "      <td>2008</td>\n",
       "      <td>1.0</td>\n",
       "      <td>1.0</td>\n",
       "      <td>2633</td>\n",
       "      <td>2</td>\n",
       "      <td>72</td>\n",
       "      <td>Tennessee Volunteers</td>\n",
       "      <td>83.0</td>\n",
       "      <td>38.1</td>\n",
       "      <td>18.2</td>\n",
       "      <td>...</td>\n",
       "      <td>223</td>\n",
       "      <td>141</td>\n",
       "      <td>0.636</td>\n",
       "      <td>0.667</td>\n",
       "      <td>0.588</td>\n",
       "      <td>-13</td>\n",
       "      <td>-143</td>\n",
       "      <td>-204</td>\n",
       "      <td>-136</td>\n",
       "      <td>0</td>\n",
       "    </tr>\n",
       "    <tr>\n",
       "      <th>2</th>\n",
       "      <td>2008</td>\n",
       "      <td>1.0</td>\n",
       "      <td>1.0</td>\n",
       "      <td>97</td>\n",
       "      <td>3</td>\n",
       "      <td>79</td>\n",
       "      <td>Louisville Cardinals</td>\n",
       "      <td>71.9</td>\n",
       "      <td>37.8</td>\n",
       "      <td>14.8</td>\n",
       "      <td>...</td>\n",
       "      <td>235</td>\n",
       "      <td>82</td>\n",
       "      <td>0.735</td>\n",
       "      <td>0.688</td>\n",
       "      <td>0.786</td>\n",
       "      <td>-11</td>\n",
       "      <td>-122</td>\n",
       "      <td>-221</td>\n",
       "      <td>-70</td>\n",
       "      <td>0</td>\n",
       "    </tr>\n",
       "    <tr>\n",
       "      <th>3</th>\n",
       "      <td>2008</td>\n",
       "      <td>1.0</td>\n",
       "      <td>1.0</td>\n",
       "      <td>265</td>\n",
       "      <td>4</td>\n",
       "      <td>71</td>\n",
       "      <td>Washington State Cougars</td>\n",
       "      <td>67.1</td>\n",
       "      <td>29.2</td>\n",
       "      <td>13.7</td>\n",
       "      <td>...</td>\n",
       "      <td>129</td>\n",
       "      <td>90</td>\n",
       "      <td>0.647</td>\n",
       "      <td>0.786</td>\n",
       "      <td>0.455</td>\n",
       "      <td>-9</td>\n",
       "      <td>-68</td>\n",
       "      <td>-108</td>\n",
       "      <td>-77</td>\n",
       "      <td>0</td>\n",
       "    </tr>\n",
       "    <tr>\n",
       "      <th>4</th>\n",
       "      <td>2008</td>\n",
       "      <td>1.0</td>\n",
       "      <td>1.0</td>\n",
       "      <td>87</td>\n",
       "      <td>5</td>\n",
       "      <td>68</td>\n",
       "      <td>Notre Dame Fighting Irish</td>\n",
       "      <td>80.6</td>\n",
       "      <td>41.6</td>\n",
       "      <td>18.9</td>\n",
       "      <td>...</td>\n",
       "      <td>179</td>\n",
       "      <td>96</td>\n",
       "      <td>0.676</td>\n",
       "      <td>0.929</td>\n",
       "      <td>0.417</td>\n",
       "      <td>-7</td>\n",
       "      <td>-48</td>\n",
       "      <td>-127</td>\n",
       "      <td>-79</td>\n",
       "      <td>0</td>\n",
       "    </tr>\n",
       "  </tbody>\n",
       "</table>\n",
       "<p>5 rows × 58 columns</p>\n",
       "</div>"
      ],
      "text/plain": [
       "   YEAR  ROUND  REGION  T1ID  T1SEED  T1SCORE                     T1NAME  \\\n",
       "0  2008    1.0     1.0   153       1      113   North Carolina Tar Heels   \n",
       "1  2008    1.0     1.0  2633       2       72       Tennessee Volunteers   \n",
       "2  2008    1.0     1.0    97       3       79       Louisville Cardinals   \n",
       "3  2008    1.0     1.0   265       4       71   Washington State Cougars   \n",
       "4  2008    1.0     1.0    87       5       68  Notre Dame Fighting Irish   \n",
       "\n",
       "   T1PTS  T1REB  T1AST  ...  T2SOS  T2SOR  T2REC  T2HREC  T2AREC  SEEDDIFF  \\\n",
       "0   88.7   44.2   16.7  ...    246    182  0.559     0.5   0.533       -15   \n",
       "1   83.0   38.1   18.2  ...    223    141  0.636   0.667   0.588       -13   \n",
       "2   71.9   37.8   14.8  ...    235     82  0.735   0.688   0.786       -11   \n",
       "3   67.1   29.2   13.7  ...    129     90  0.647   0.786   0.455        -9   \n",
       "4   80.6   41.6   18.9  ...    179     96  0.676   0.929   0.417        -7   \n",
       "\n",
       "   BPIDIFF  SOSDIFF  SORDIFF  WINNER  \n",
       "0     -169     -237     -181       0  \n",
       "1     -143     -204     -136       0  \n",
       "2     -122     -221      -70       0  \n",
       "3      -68     -108      -77       0  \n",
       "4      -48     -127      -79       0  \n",
       "\n",
       "[5 rows x 58 columns]"
      ]
     },
     "execution_count": 2,
     "metadata": {},
     "output_type": "execute_result"
    }
   ],
   "source": [
    "df = pd.read_csv('MARCH_MADNESS_DATA.csv')\n",
    "df.head()"
   ]
  },
  {
   "cell_type": "code",
   "execution_count": 3,
   "metadata": {},
   "outputs": [],
   "source": [
    "df = df.drop(columns=['T1NAME','T2NAME','T1SCORE','T2SCORE','REGION','YEAR','ROUND',\n",
    "                      'T1ID','T1HW','T1HL','T1AW','T1AL','T1HREC','T1AREC',\n",
    "                      'T2ID','T2HW','T2HL','T2AW','T2AL','T2HREC','T2AREC',])"
   ]
  },
  {
   "cell_type": "code",
   "execution_count": 4,
   "metadata": {},
   "outputs": [],
   "source": [
    "df = df.dropna()"
   ]
  },
  {
   "cell_type": "code",
   "execution_count": 5,
   "metadata": {},
   "outputs": [],
   "source": [
    "x = df.iloc[:,:-1]\n",
    "y = df.WINNER"
   ]
  },
  {
   "cell_type": "code",
   "execution_count": 6,
   "metadata": {},
   "outputs": [],
   "source": [
    "train_x, test_x, train_y, test_y = train_test_split(x, y, test_size=0.2, random_state=99)"
   ]
  },
  {
   "cell_type": "code",
   "execution_count": 7,
   "metadata": {},
   "outputs": [],
   "source": [
    "# ### Random Forest\n",
    "# from sklearn.model_selection import RandomizedSearchCV\n",
    "# random_grid = {}\n",
    "# random_grid['n_estimators'] = [int(x) for x in np.linspace(start = 200, stop = 2000, num = 10)]\n",
    "# random_grid['max_features'] = ['auto', 'sqrt']\n",
    "# random_grid['max_depth'] = [int(x) for x in np.linspace(10, 110, num = 11)]\n",
    "# random_grid['max_depth'].append(None)\n",
    "# random_grid['min_samples_split'] = [2, 5, 10]\n",
    "# random_grid['min_samples_leaf'] = [1, 2, 4]\n",
    "# random_grid['bootstrap'] = [True, False]\n",
    "# rf = RandomForestClassifier()\n",
    "# rf_random = RandomizedSearchCV(\n",
    "#     estimator=rf, \n",
    "#     param_distributions=random_grid, \n",
    "#     n_iter=500, cv=3, verbose=2,\n",
    "#     n_jobs=-1)\n",
    "# rf_random.fit(train_x, train_y)"
   ]
  },
  {
   "cell_type": "code",
   "execution_count": 8,
   "metadata": {},
   "outputs": [],
   "source": [
    "# rf_random.best_params_"
   ]
  },
  {
   "cell_type": "code",
   "execution_count": 9,
   "metadata": {},
   "outputs": [],
   "source": [
    "# {'n_estimators': 1600,\n",
    "#  'min_samples_split': 5,\n",
    "#  'min_samples_leaf': 4,\n",
    "#  'max_features': 'auto',\n",
    "#  'max_depth': 60,\n",
    "#  'bootstrap': False}"
   ]
  },
  {
   "cell_type": "code",
   "execution_count": 10,
   "metadata": {},
   "outputs": [
    {
     "data": {
      "text/plain": [
       "RandomForestClassifier(max_depth=50, min_samples_leaf=4, n_estimators=1500)"
      ]
     },
     "execution_count": 10,
     "metadata": {},
     "output_type": "execute_result"
    }
   ],
   "source": [
    "from sklearn.ensemble import RandomForestClassifier\n",
    "rf = RandomForestClassifier(\n",
    "    n_estimators=1500,\n",
    "    min_samples_leaf=4,\n",
    "    max_features='auto',\n",
    "    max_depth=50,\n",
    "    bootstrap=True)\n",
    "rf.fit(train_x, train_y)"
   ]
  },
  {
   "cell_type": "code",
   "execution_count": 11,
   "metadata": {},
   "outputs": [
    {
     "name": "stdout",
     "output_type": "stream",
     "text": [
      "Random Forest        ==> 84.24\n",
      "Log Loss             ==> 0.407\n",
      "\n"
     ]
    }
   ],
   "source": [
    "from sklearn.metrics import accuracy_score, log_loss\n",
    "\n",
    "### Random Forest\n",
    "rf_pred = rf.predict(test_x)\n",
    "rf_acc = accuracy_score(test_y, rf_pred)\n",
    "rf_predprob = rf.predict_proba(test_x)\n",
    "print(f\"{'Random Forest':<20} ==> {round(rf_acc * 100, 2)}\")\n",
    "print(f\"{'Log Loss':<20} ==> {round(log_loss(test_y, rf_predprob), 3)}\")\n",
    "print()"
   ]
  },
  {
   "cell_type": "code",
   "execution_count": 12,
   "metadata": {},
   "outputs": [],
   "source": [
    "importances = rf.feature_importances_\n",
    "std = np.std([tree.feature_importances_ for tree in rf.estimators_], axis=0)"
   ]
  },
  {
   "cell_type": "code",
   "execution_count": 13,
   "metadata": {},
   "outputs": [
    {
     "data": {
      "image/png": "[encoded data removed]",
      "text/plain": [
       "<Figure size 720x432 with 1 Axes>"
      ]
     },
     "metadata": {
      "needs_background": "light"
     },
     "output_type": "display_data"
    }
   ],
   "source": [
    "feature_names = list(df.columns[:-1])\n",
    "forest_importances = pd.Series(importances, index=feature_names).sort_values()\n",
    "fig, ax = plt.subplots(figsize=(10, 6))\n",
    "forest_importances.plot.bar(ax=ax)\n",
    "ax.set_title(\"Variable Importances\")\n",
    "ax.set_ylabel(\"Impurity Decrease\")\n",
    "fig.tight_layout()"
   ]
  },
  {
   "cell_type": "code",
   "execution_count": null,
   "metadata": {},
   "outputs": [],
   "source": []
  }
 ],
 "metadata": {
  "kernelspec": {
   "display_name": "Python 3",
   "language": "python",
   "name": "python3"
  },
  "language_info": {
   "codemirror_mode": {
    "name": "ipython",
    "version": 3
   },
   "file_extension": ".py",
   "mimetype": "text/x-python",
   "name": "python",
   "nbconvert_exporter": "python",
   "pygments_lexer": "ipython3",
   "version": "3.7.7"
  }
 },
 "nbformat": 4,
 "nbformat_minor": 4
}
