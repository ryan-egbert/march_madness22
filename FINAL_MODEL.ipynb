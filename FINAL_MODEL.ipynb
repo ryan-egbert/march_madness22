{
 "cells": [
  {
   "cell_type": "markdown",
   "metadata": {},
   "source": [
    "# Final March Madness 2022 Prediction Model"
   ]
  },
  {
   "cell_type": "markdown",
   "metadata": {},
   "source": [
    "## Loading in Data"
   ]
  },
  {
   "cell_type": "code",
   "execution_count": 1,
   "metadata": {},
   "outputs": [],
   "source": [
    "import pandas as pd\n",
    "import numpy as np\n",
    "import csv\n",
    "from sklearn.model_selection import train_test_split\n",
    "import matplotlib.pyplot as plt"
   ]
  },
  {
   "cell_type": "code",
   "execution_count": 2,
   "metadata": {},
   "outputs": [
    {
     "data": {
      "text/html": [
       "<div>\n",
       "<style scoped>\n",
       "    .dataframe tbody tr th:only-of-type {\n",
       "        vertical-align: middle;\n",
       "    }\n",
       "\n",
       "    .dataframe tbody tr th {\n",
       "        vertical-align: top;\n",
       "    }\n",
       "\n",
       "    .dataframe thead th {\n",
       "        text-align: right;\n",
       "    }\n",
       "</style>\n",
       "<table border=\"1\" class=\"dataframe\">\n",
       "  <thead>\n",
       "    <tr style=\"text-align: right;\">\n",
       "      <th></th>\n",
       "      <th>YEAR</th>\n",
       "      <th>ROUND</th>\n",
       "      <th>REGION</th>\n",
       "      <th>T1ID</th>\n",
       "      <th>T1SEED</th>\n",
       "      <th>T1SCORE</th>\n",
       "      <th>T1NAME</th>\n",
       "      <th>T1PTS</th>\n",
       "      <th>T1REB</th>\n",
       "      <th>T1AST</th>\n",
       "      <th>...</th>\n",
       "      <th>T2SOS</th>\n",
       "      <th>T2SOR</th>\n",
       "      <th>T2REC</th>\n",
       "      <th>T2HREC</th>\n",
       "      <th>T2AREC</th>\n",
       "      <th>SEEDDIFF</th>\n",
       "      <th>BPIDIFF</th>\n",
       "      <th>SOSDIFF</th>\n",
       "      <th>SORDIFF</th>\n",
       "      <th>WINNER</th>\n",
       "    </tr>\n",
       "  </thead>\n",
       "  <tbody>\n",
       "    <tr>\n",
       "      <th>0</th>\n",
       "      <td>2008</td>\n",
       "      <td>1.0</td>\n",
       "      <td>1.0</td>\n",
       "      <td>153</td>\n",
       "      <td>1</td>\n",
       "      <td>113</td>\n",
       "      <td>North Carolina Tar Heels</td>\n",
       "      <td>88.7</td>\n",
       "      <td>44.2</td>\n",
       "      <td>16.7</td>\n",
       "      <td>...</td>\n",
       "      <td>246</td>\n",
       "      <td>182</td>\n",
       "      <td>0.559</td>\n",
       "      <td>0.5</td>\n",
       "      <td>0.533</td>\n",
       "      <td>-15</td>\n",
       "      <td>-169</td>\n",
       "      <td>-237</td>\n",
       "      <td>-181</td>\n",
       "      <td>0</td>\n",
       "    </tr>\n",
       "    <tr>\n",
       "      <th>1</th>\n",
       "      <td>2008</td>\n",
       "      <td>1.0</td>\n",
       "      <td>1.0</td>\n",
       "      <td>2633</td>\n",
       "      <td>2</td>\n",
       "      <td>72</td>\n",
       "      <td>Tennessee Volunteers</td>\n",
       "      <td>83.0</td>\n",
       "      <td>38.1</td>\n",
       "      <td>18.2</td>\n",
       "      <td>...</td>\n",
       "      <td>223</td>\n",
       "      <td>141</td>\n",
       "      <td>0.636</td>\n",
       "      <td>0.667</td>\n",
       "      <td>0.588</td>\n",
       "      <td>-13</td>\n",
       "      <td>-143</td>\n",
       "      <td>-204</td>\n",
       "      <td>-136</td>\n",
       "      <td>0</td>\n",
       "    </tr>\n",
       "    <tr>\n",
       "      <th>2</th>\n",
       "      <td>2008</td>\n",
       "      <td>1.0</td>\n",
       "      <td>1.0</td>\n",
       "      <td>97</td>\n",
       "      <td>3</td>\n",
       "      <td>79</td>\n",
       "      <td>Louisville Cardinals</td>\n",
       "      <td>71.9</td>\n",
       "      <td>37.8</td>\n",
       "      <td>14.8</td>\n",
       "      <td>...</td>\n",
       "      <td>235</td>\n",
       "      <td>82</td>\n",
       "      <td>0.735</td>\n",
       "      <td>0.688</td>\n",
       "      <td>0.786</td>\n",
       "      <td>-11</td>\n",
       "      <td>-122</td>\n",
       "      <td>-221</td>\n",
       "      <td>-70</td>\n",
       "      <td>0</td>\n",
       "    </tr>\n",
       "    <tr>\n",
       "      <th>3</th>\n",
       "      <td>2008</td>\n",
       "      <td>1.0</td>\n",
       "      <td>1.0</td>\n",
       "      <td>265</td>\n",
       "      <td>4</td>\n",
       "      <td>71</td>\n",
       "      <td>Washington State Cougars</td>\n",
       "      <td>67.1</td>\n",
       "      <td>29.2</td>\n",
       "      <td>13.7</td>\n",
       "      <td>...</td>\n",
       "      <td>129</td>\n",
       "      <td>90</td>\n",
       "      <td>0.647</td>\n",
       "      <td>0.786</td>\n",
       "      <td>0.455</td>\n",
       "      <td>-9</td>\n",
       "      <td>-68</td>\n",
       "      <td>-108</td>\n",
       "      <td>-77</td>\n",
       "      <td>0</td>\n",
       "    </tr>\n",
       "    <tr>\n",
       "      <th>4</th>\n",
       "      <td>2008</td>\n",
       "      <td>1.0</td>\n",
       "      <td>1.0</td>\n",
       "      <td>87</td>\n",
       "      <td>5</td>\n",
       "      <td>68</td>\n",
       "      <td>Notre Dame Fighting Irish</td>\n",
       "      <td>80.6</td>\n",
       "      <td>41.6</td>\n",
       "      <td>18.9</td>\n",
       "      <td>...</td>\n",
       "      <td>179</td>\n",
       "      <td>96</td>\n",
       "      <td>0.676</td>\n",
       "      <td>0.929</td>\n",
       "      <td>0.417</td>\n",
       "      <td>-7</td>\n",
       "      <td>-48</td>\n",
       "      <td>-127</td>\n",
       "      <td>-79</td>\n",
       "      <td>0</td>\n",
       "    </tr>\n",
       "  </tbody>\n",
       "</table>\n",
       "<p>5 rows × 58 columns</p>\n",
       "</div>"
      ],
      "text/plain": [
       "   YEAR  ROUND  REGION  T1ID  T1SEED  T1SCORE                     T1NAME  \\\n",
       "0  2008    1.0     1.0   153       1      113   North Carolina Tar Heels   \n",
       "1  2008    1.0     1.0  2633       2       72       Tennessee Volunteers   \n",
       "2  2008    1.0     1.0    97       3       79       Louisville Cardinals   \n",
       "3  2008    1.0     1.0   265       4       71   Washington State Cougars   \n",
       "4  2008    1.0     1.0    87       5       68  Notre Dame Fighting Irish   \n",
       "\n",
       "   T1PTS  T1REB  T1AST  ...  T2SOS  T2SOR  T2REC  T2HREC  T2AREC  SEEDDIFF  \\\n",
       "0   88.7   44.2   16.7  ...    246    182  0.559     0.5   0.533       -15   \n",
       "1   83.0   38.1   18.2  ...    223    141  0.636   0.667   0.588       -13   \n",
       "2   71.9   37.8   14.8  ...    235     82  0.735   0.688   0.786       -11   \n",
       "3   67.1   29.2   13.7  ...    129     90  0.647   0.786   0.455        -9   \n",
       "4   80.6   41.6   18.9  ...    179     96  0.676   0.929   0.417        -7   \n",
       "\n",
       "   BPIDIFF  SOSDIFF  SORDIFF  WINNER  \n",
       "0     -169     -237     -181       0  \n",
       "1     -143     -204     -136       0  \n",
       "2     -122     -221      -70       0  \n",
       "3      -68     -108      -77       0  \n",
       "4      -48     -127      -79       0  \n",
       "\n",
       "[5 rows x 58 columns]"
      ]
     },
     "execution_count": 2,
     "metadata": {},
     "output_type": "execute_result"
    }
   ],
   "source": [
    "# MARCH_MADNESS_DATA is a composite of all of my previous data as well as all the data scraped from ESPN\n",
    "df = pd.read_csv('MARCH_MADNESS_DATA.csv')\n",
    "df.head()"
   ]
  },
  {
   "cell_type": "code",
   "execution_count": 3,
   "metadata": {},
   "outputs": [],
   "source": [
    "# Drop unneeded columns\n",
    "df = df.drop(columns=['T1NAME','T2NAME','T1SCORE','T2SCORE','REGION','YEAR','ROUND',\n",
    "                      'T1ID','T1HW','T1HL','T1AW','T1AL','T1HREC','T1AREC',\n",
    "                      'T2ID','T2HW','T2HL','T2AW','T2AL','T2HREC','T2AREC',])"
   ]
  },
  {
   "cell_type": "code",
   "execution_count": 4,
   "metadata": {},
   "outputs": [],
   "source": [
    "df = df.dropna()"
   ]
  },
  {
   "cell_type": "markdown",
   "metadata": {},
   "source": [
    "## Building the Model"
   ]
  },
  {
   "cell_type": "code",
   "execution_count": 5,
   "metadata": {},
   "outputs": [],
   "source": [
    "x = df.iloc[:,:-1]\n",
    "y = df.WINNER"
   ]
  },
  {
   "cell_type": "code",
   "execution_count": 6,
   "metadata": {},
   "outputs": [],
   "source": [
    "train_x, test_x, train_y, test_y = train_test_split(x, y, test_size=0.2, random_state=99)"
   ]
  },
  {
   "cell_type": "code",
   "execution_count": 7,
   "metadata": {},
   "outputs": [],
   "source": [
    "# ### Random Forest\n",
    "# from sklearn.model_selection import RandomizedSearchCV\n",
    "# random_grid = {}\n",
    "# random_grid['n_estimators'] = [int(x) for x in np.linspace(start = 200, stop = 2000, num = 10)]\n",
    "# random_grid['max_features'] = ['auto', 'sqrt']\n",
    "# random_grid['max_depth'] = [int(x) for x in np.linspace(10, 110, num = 11)]\n",
    "# random_grid['max_depth'].append(None)\n",
    "# random_grid['min_samples_split'] = [2, 5, 10]\n",
    "# random_grid['min_samples_leaf'] = [1, 2, 4]\n",
    "# random_grid['bootstrap'] = [True, False]\n",
    "# rf = RandomForestClassifier()\n",
    "# rf_random = RandomizedSearchCV(\n",
    "#     estimator=rf, \n",
    "#     param_distributions=random_grid, \n",
    "#     n_iter=500, cv=3, verbose=2,\n",
    "#     n_jobs=-1)\n",
    "# rf_random.fit(train_x, train_y)"
   ]
  },
  {
   "cell_type": "code",
   "execution_count": 8,
   "metadata": {},
   "outputs": [],
   "source": [
    "# rf_random.best_params_"
   ]
  },
  {
   "cell_type": "code",
   "execution_count": 9,
   "metadata": {},
   "outputs": [],
   "source": [
    "# {'n_estimators': 1600,\n",
    "#  'min_samples_split': 5,\n",
    "#  'min_samples_leaf': 4,\n",
    "#  'max_features': 'auto',\n",
    "#  'max_depth': 60,\n",
    "#  'bootstrap': False}"
   ]
  },
  {
   "cell_type": "code",
   "execution_count": 10,
   "metadata": {},
   "outputs": [
    {
     "data": {
      "text/plain": [
       "RandomForestClassifier(max_depth=50, min_samples_leaf=4, n_estimators=1500)"
      ]
     },
     "execution_count": 10,
     "metadata": {},
     "output_type": "execute_result"
    }
   ],
   "source": [
    "# Train RF based on best parameters from randomized search\n",
    "from sklearn.ensemble import RandomForestClassifier\n",
    "rf = RandomForestClassifier(\n",
    "    n_estimators=1500,\n",
    "    min_samples_leaf=4,\n",
    "    max_features='auto',\n",
    "    max_depth=50,\n",
    "    bootstrap=True)\n",
    "rf.fit(train_x, train_y)"
   ]
  },
  {
   "cell_type": "code",
   "execution_count": 11,
   "metadata": {},
   "outputs": [
    {
     "name": "stdout",
     "output_type": "stream",
     "text": [
      "Random Forest        ==> 84.24\n",
      "Log Loss             ==> 0.405\n"
     ]
    }
   ],
   "source": [
    "# Log loss was the metric used in the Kaggle competition\n",
    "from sklearn.metrics import accuracy_score, log_loss\n",
    "\n",
    "### Random Forest\n",
    "rf_pred = rf.predict(test_x)\n",
    "rf_acc = accuracy_score(test_y, rf_pred)\n",
    "rf_predprob = rf.predict_proba(test_x)\n",
    "print(f\"{'Random Forest':<20} ==> {round(rf_acc * 100, 2)}\")\n",
    "print(f\"{'Log Loss':<20} ==> {round(log_loss(test_y, rf_predprob), 3)}\")"
   ]
  },
  {
   "cell_type": "code",
   "execution_count": 12,
   "metadata": {},
   "outputs": [],
   "source": [
    "# Feature importances\n",
    "importances = rf.feature_importances_\n",
    "std = np.std([tree.feature_importances_ for tree in rf.estimators_], axis=0)"
   ]
  },
  {
   "cell_type": "code",
   "execution_count": 13,
   "metadata": {},
   "outputs": [
    {
     "data": {
      "image/png": "[encoded data removed]",
      "text/plain": [
       "<Figure size 720x432 with 1 Axes>"
      ]
     },
     "metadata": {
      "needs_background": "light"
     },
     "output_type": "display_data"
    }
   ],
   "source": [
    "feature_names = list(df.columns[:-1])\n",
    "forest_importances = pd.Series(importances, index=feature_names).sort_values()\n",
    "fig, ax = plt.subplots(figsize=(10, 6))\n",
    "forest_importances.plot.bar(ax=ax)\n",
    "ax.set_title(\"Variable Importances\")\n",
    "ax.set_ylabel(\"Impurity Decrease\")\n",
    "fig.tight_layout()"
   ]
  },
  {
   "cell_type": "markdown",
   "metadata": {},
   "source": [
    "## Updating ID's to match Kaggle Competition"
   ]
  },
  {
   "cell_type": "code",
   "execution_count": 14,
   "metadata": {},
   "outputs": [],
   "source": [
    "spell = pd.read_csv('./data/MDataFiles_Stage1/MTeamSpellings.csv', encoding='cp1252')\n",
    "ids = pd.read_csv('./data/id_name.csv')"
   ]
  },
  {
   "cell_type": "markdown",
   "metadata": {},
   "source": [
    "### Convert from ESPN to Kaggle ids"
   ]
  },
  {
   "cell_type": "code",
   "execution_count": 15,
   "metadata": {},
   "outputs": [
    {
     "name": "stdout",
     "output_type": "stream",
     "text": [
      "Processing row 0/823...\n",
      "Processing row 100/823...\n",
      "Processing row 200/823...\n",
      "Processing row 300/823...\n",
      "Processing row 400/823...\n",
      "Processing row 500/823...\n",
      "Processing row 600/823...\n",
      "Processing row 700/823...\n",
      "Processing row 800/823...\n"
     ]
    }
   ],
   "source": [
    "new_ids = {}\n",
    "for idx1, row1 in ids.iterrows():\n",
    "    if idx1 % 100 == 0:\n",
    "        print(f\"Processing row {idx1}/{ids.shape[0]}...\")\n",
    "    team1name = row1['Team1'].lower().replace(' ', '')\n",
    "    team2name = row1['Team2'].lower().replace(' ', '')\n",
    "    team1id = row1['team1id']\n",
    "    team2id = row1['team2id']\n",
    "    if team1id not in new_ids:\n",
    "        new_ids[team1id] = {'name':team1name, 'new_ids':[]}\n",
    "    if team2id not in new_ids:\n",
    "        new_ids[team2id] = {'name':team2name, 'new_ids':[]}\n",
    "    for idx2, row2 in spell.iterrows():\n",
    "        if row2['TeamNameSpelling'].lower().replace(' ', '') == team1name:\n",
    "            if row2['TeamID'] not in new_ids[team1id]['new_ids']:\n",
    "                new_ids[team1id]['new_ids'].append(row2['TeamID'])\n",
    "        if row2['TeamNameSpelling'].lower().replace(' ', '') == team2name:\n",
    "            if row2['TeamID'] not in new_ids[team2id]['new_ids']:\n",
    "                new_ids[team2id]['new_ids'].append(row2['TeamID'])"
   ]
  },
  {
   "cell_type": "code",
   "execution_count": 16,
   "metadata": {},
   "outputs": [
    {
     "name": "stdout",
     "output_type": "stream",
     "text": [
      "Teams with incorrect ids:\n",
      "\n",
      "Cleveland State\n",
      "Utah State\n",
      "UConn\n",
      "Oregon State\n",
      "Mount St. Mary's\n",
      "Oklahoma State\n",
      "UC Irvine\n",
      "Morehead State\n",
      "UC Santa Barbara\n",
      "Michigan State\n",
      "St. Bonaventure\n",
      "Norfolk State\n",
      "St Marys\n",
      "Florida State\n",
      "Ohio State\n",
      "Wichita State\n",
      "Lafayette\n",
      "San Diego State\n",
      "Utah\n"
     ]
    }
   ],
   "source": [
    "# Ids that were incorrectly classified\n",
    "print(\"Teams with incorrect ids:\\n\")\n",
    "id_set = set(list(ids.team1id) + list(ids.team2id))\n",
    "name_set = set(list(ids.Team1) + list(ids.Team2))\n",
    "not_found = []\n",
    "for name in name_set:\n",
    "    found = False\n",
    "    for id in id_set:\n",
    "        if new_ids[id]['name'] == name.lower().replace(' ',''):\n",
    "            found = True\n",
    "    if not found:\n",
    "        print(name)\n",
    "        not_found.append(name)"
   ]
  },
  {
   "cell_type": "code",
   "execution_count": 17,
   "metadata": {},
   "outputs": [],
   "source": [
    "# Manually fix mislabeled ids\n",
    "new_ids[254] = {'name':'utah', 'new_ids':[1428]}\n",
    "new_ids[2608] = {'name': 'st marys', 'new_ids':[1388]}\n",
    "new_ids[2603]['new_ids'] = [1386]\n",
    "new_ids[2239]['new_ids'] = [1168]\n",
    "new_ids[2309]['new_ids'] = [1245]\n",
    "new_ids[251]['new_ids'] = [1400]\n",
    "new_ids[2390]['new_ids'] = [1274]\n",
    "new_ids[2400]['new_ids'] = [1290]\n",
    "new_ids[2449]['new_ids'] = [1295]\n",
    "new_ids[2463]['new_ids'] = [1169]\n",
    "new_ids[2193]['new_ids'] = [1190]\n",
    "new_ids[2617]['new_ids'] = [1372]\n",
    "new_ids[2029]['new_ids'] = [1115]\n",
    "new_ids[112358]['new_ids'] = [1254]\n",
    "new_ids[2612]['new_ids'] = [1389]\n",
    "new_ids[2599]['new_ids'] = [1385]\n",
    "new_ids[2571]['new_ids'] = [1355]\n",
    "new_ids[2466]['new_ids'] = [1322]\n",
    "new_ids[270]['new_ids'] = [1454]\n",
    "new_ids[2934]['new_ids'] = [1167]\n",
    "new_ids[2739]['new_ids'] = [1453]\n",
    "new_ids[2393]['new_ids'] = [1292]\n",
    "new_ids[2031]['new_ids'] = [1114]"
   ]
  },
  {
   "cell_type": "code",
   "execution_count": 18,
   "metadata": {},
   "outputs": [],
   "source": [
    "# Ids from 2022 teams\n",
    "ids22 = pd.read_csv('./predictions/2022Teams.csv', header=None)\n",
    "ids22.columns = ['Name']"
   ]
  },
  {
   "cell_type": "code",
   "execution_count": 19,
   "metadata": {},
   "outputs": [
    {
     "name": "stdout",
     "output_type": "stream",
     "text": [
      "Processing team 0/68...\n",
      "Processing team 10/68...\n",
      "Processing team 20/68...\n",
      "Processing team 30/68...\n",
      "Processing team 40/68...\n",
      "Processing team 50/68...\n",
      "Processing team 60/68...\n"
     ]
    }
   ],
   "source": [
    "# Convert 2022 team ids to Kaggle ids\n",
    "team_ids = {}\n",
    "for idx1, row1 in ids22.iterrows():\n",
    "    if idx1 % 10 == 0:\n",
    "        print(f\"Processing team {idx1}/{ids22.shape[0]}...\")\n",
    "    teamName = row1['Name']\n",
    "    teamName_ = teamName.lower().replace(' ', '')\n",
    "    for idx2, row2 in spell.iterrows():\n",
    "        if row2['TeamNameSpelling'].lower().replace(' ', '') == teamName_:\n",
    "                team_ids[teamName] = row2['TeamID']\n",
    "                ids22.loc[idx1,'ID'] = row2['TeamID']"
   ]
  },
  {
   "cell_type": "code",
   "execution_count": 20,
   "metadata": {},
   "outputs": [],
   "source": [
    "# Manually update teams with no historical tournament data\n",
    "ids22.loc[1,'ID'] = 1394\n",
    "ids22.loc[13,'ID'] = 1308\n",
    "ids22.loc[27,'ID'] = 1388\n",
    "ids22.loc[37,'ID'] = 1389\n",
    "ids22.loc[52,'ID'] = 1174\n",
    "ids22.loc[54,'ID'] = 1361\n",
    "ids22.loc[59,'ID'] = 1355"
   ]
  },
  {
   "cell_type": "code",
   "execution_count": 21,
   "metadata": {},
   "outputs": [],
   "source": [
    "# Create inverse dictionary\n",
    "new_ids_inv = {}\n",
    "for id in new_ids:\n",
    "    new_ids_inv[new_ids[id]['new_ids'][0]] = id"
   ]
  },
  {
   "cell_type": "code",
   "execution_count": 22,
   "metadata": {},
   "outputs": [],
   "source": [
    "# Update inverse dictionary ids\n",
    "new_ids_inv[1394] = 357\n",
    "new_ids_inv[1136] = 2803\n",
    "new_ids_inv[1286] = 147\n",
    "new_ids_inv[1388] = 2608\n",
    "new_ids_inv[1362] = 2539\n",
    "new_ids_inv[1255] = 2344"
   ]
  },
  {
   "cell_type": "markdown",
   "metadata": {},
   "source": [
    "## Preparing 2022 Data"
   ]
  },
  {
   "cell_type": "code",
   "execution_count": 23,
   "metadata": {},
   "outputs": [],
   "source": [
    "games_2022 = pd.read_csv('./data/MDataFiles_Stage2/MSampleSubmissionStage2.csv')\n",
    "seeds_2022 = pd.read_csv('./data/MDataFiles_Stage2/MNCAATourneySeeds.csv')"
   ]
  },
  {
   "cell_type": "code",
   "execution_count": 24,
   "metadata": {},
   "outputs": [],
   "source": [
    "# !!! MongoDB hosted locally\n",
    "from pymongo import MongoClient\n",
    "client = MongoClient('localhost', 27017)\n",
    "db = client.ncaa\n",
    "teams = db.teams2"
   ]
  },
  {
   "cell_type": "markdown",
   "metadata": {},
   "source": [
    "The MODEL_INPUT_2022.csv file can be found in the ```model_input/``` directory"
   ]
  },
  {
   "cell_type": "code",
   "execution_count": 25,
   "metadata": {},
   "outputs": [],
   "source": [
    "# with open('./model_input/MODEL_INPUT_2022.csv', 'w') as f:\n",
    "#     f.write('T1ID,T1SEED,T1SCORE,T1NAME,T1PTS,T1REB,T1AST,T1STL,T1BLK,T1TO,T1FG%,T1FT%,T13P%,T1W,T1L,T1BPI,T1SOS,T1SOR,T1REC,')\n",
    "#     f.write('T2ID,T2SEED,T2SCORE,T2NAME,T2PTS,T2REB,T2AST,T2STL,T2BLK,T2TO,T2FG%,T2FT%,T23P%,T2W,T2L,T2BPI,T2SOS,T2SOR,T2REC,')\n",
    "#     f.write('SEEDDIFF,BPIDIFF,SOSDIFF,SORDIFF\\n')\n",
    "#     for idx, row in games_2022.iterrows():\n",
    "#         if idx % 100 == 0:\n",
    "#             print(idx)\n",
    "#         year = row['ID'][:4]\n",
    "#         t1id_ = row['ID'][5:9]\n",
    "#         t2id_ = row['ID'][10:]\n",
    "#         try:\n",
    "#             team1 = teams.find_one({'year': year, 'id_num': str(new_ids_inv[int(t1id_)])})\n",
    "#         except KeyError:\n",
    "#             team1 = teams.find_one({'ID': '99999999'})\n",
    "#         try:\n",
    "#             team2 = teams.find_one({'year': year, 'id_num': str(new_ids_inv[int(t2id_)])})\n",
    "#         except KeyError:\n",
    "#             team2 = teams.find_one({'ID': '99999999'})\n",
    "\n",
    "#         ### TEAM 1 INFO ###\n",
    "#         t1id = team1['id_num']\n",
    "#         t1seed = seeds_2022[(seeds_2022.Season == 2022) & (seeds_2022.TeamID == int(t1id_))].iloc[0,1][1:3]\n",
    "#         t1score = 0\n",
    "#         t1name = team1['name']\n",
    "#         t1PTS = team1['stats']['PTS']\n",
    "#         t1REB = team1['stats']['REB']\n",
    "#         t1AST = team1['stats']['AST']\n",
    "#         t1STL = team1['stats']['STL']\n",
    "#         t1BLK = team1['stats']['BLK']\n",
    "#         t1TOV = team1['stats']['TO']\n",
    "#         t1FG = team1['stats']['FG%']\n",
    "#         t1FT = team1['stats']['FT%']\n",
    "#         t13P = team1['stats']['3P%']\n",
    "#         t1w = team1['record']['record'].split('-')[0]\n",
    "#         t1l = team1['record']['record'].split('-')[1]\n",
    "#         if int(t1w) > 0 and int(t1l) > 0:\n",
    "#             t1rec = round(int(t1w) / (int(t1w) + int(t1l)),3)\n",
    "#         else:\n",
    "#             t1rec = 0\n",
    "#         t1bpi = team1['ranking']['bpi']\n",
    "#         t1sos = team1['ranking']['sos']\n",
    "#         t1sor = team1['ranking']['sor']\n",
    "#         f.write(f'{t1id},{t1seed},{t1score},{t1name},{t1PTS},{t1REB},{t1AST},{t1STL},{t1BLK},{t1TOV},{t1FG},{t1FT},{t13P},{t1w},{t1l},{t1bpi},{t1sos},{t1sor},{t1rec},')\n",
    "\n",
    "#         ### TEAM 2 INFO ###\n",
    "#         t2id = team2['id_num']\n",
    "#         t2seed = seeds_2022[(seeds_2022.Season == 2022) & (seeds_2022.TeamID == int(t2id_))].iloc[0,1][1:3]\n",
    "#         t2score = 0\n",
    "#         t2name = team2['name']\n",
    "#         t2PTS = team2['stats']['PTS']\n",
    "#         t2REB = team2['stats']['REB']\n",
    "#         t2AST = team2['stats']['AST']\n",
    "#         t2STL = team2['stats']['STL']\n",
    "#         t2BLK = team2['stats']['BLK']\n",
    "#         t2TOV = team2['stats']['TO']\n",
    "#         t2FG = team2['stats']['FG%']\n",
    "#         t2FT = team2['stats']['FT%']\n",
    "#         t23P = team2['stats']['3P%']\n",
    "#         t2w = team2['record']['record'].split('-')[0]\n",
    "#         t2l = team2['record']['record'].split('-')[1]\n",
    "#         if int(t2w) > 0 and int(t2l) > 0:\n",
    "#             t2rec = round(int(t2w) / (int(t2w) + int(t2l)),3)\n",
    "#         else:\n",
    "#             t2rec = 0\n",
    "#         t2bpi = team2['ranking']['bpi']\n",
    "#         t2sos = team2['ranking']['sos']\n",
    "#         t2sor = team2['ranking']['sor']\n",
    "#         f.write(f'{t2id},{t2seed},{t2score},{t2name},{t2PTS},{t2REB},{t2AST},{t2STL},{t2BLK},{t2TOV},{t2FG},{t2FT},{t23P},{t2w},{t2l},{t2bpi},{t2sos},{t2sor},{t2rec},')\n",
    "\n",
    "#         winner = 0 if int(t1score) > int(t2score) else 1\n",
    "#         seed_diff = int(t1seed) - int(t2seed)\n",
    "#         bpi_diff = int(t1bpi) - int(t2bpi)\n",
    "#         sos_diff = int(t1sos) - int(t2sos)\n",
    "#         sor_diff = int(t1sor) - int(t2sor)\n",
    "#         f.write(f'{seed_diff},{bpi_diff},{sos_diff},{sor_diff}\\n')"
   ]
  },
  {
   "cell_type": "code",
   "execution_count": 26,
   "metadata": {},
   "outputs": [],
   "source": [
    "# 2022 Dataset\n",
    "x_FINAL = pd.read_csv('./model_input/MODEL_INPUT_2022.csv')\n",
    "x_FINAL = x_FINAL.drop(columns=['T1NAME','T2NAME','T1SCORE','T2SCORE',\n",
    "                      'T1ID','T2ID',])"
   ]
  },
  {
   "cell_type": "markdown",
   "metadata": {},
   "source": [
    "## Overall Predictions"
   ]
  },
  {
   "cell_type": "code",
   "execution_count": 27,
   "metadata": {},
   "outputs": [
    {
     "name": "stdout",
     "output_type": "stream",
     "text": [
      "Processing prediction set 1\n",
      "Processing prediction set 2\n",
      "Processing prediction set 3\n",
      "Processing prediction set 4\n",
      "Processing prediction set 5\n",
      "Processing prediction set 6\n",
      "Processing prediction set 7\n",
      "Processing prediction set 8\n",
      "Processing prediction set 9\n",
      "Processing prediction set 10\n"
     ]
    }
   ],
   "source": [
    "x = df.iloc[:,:-1]\n",
    "y = df.WINNER\n",
    "\n",
    "all_preds = None\n",
    "for i in range(10):\n",
    "    print(f\"Processing prediction set {i+1}\")\n",
    "    train_x, test_x, train_y, test_y = train_test_split(x, y, test_size=0.2)\n",
    "    rf = RandomForestClassifier(\n",
    "        n_estimators=1500,\n",
    "    #     min_samples_split=5, \n",
    "        min_samples_leaf=4,\n",
    "        max_features='auto',\n",
    "        max_depth=50,\n",
    "        bootstrap=True)\n",
    "    rf.fit(train_x, train_y)\n",
    "    final_preds_2022 = rf.predict_proba(x_FINAL)\n",
    "    if all_preds is None:\n",
    "        all_preds = final_preds_2022\n",
    "    else:\n",
    "        all_preds += final_preds_2022\n",
    "all_preds /= 10"
   ]
  },
  {
   "cell_type": "code",
   "execution_count": 28,
   "metadata": {},
   "outputs": [],
   "source": [
    "games_2022_pred = games_2022.drop(columns=['Pred'])\n",
    "for idx, row in games_2022_pred.iterrows():\n",
    "    games_2022_pred.loc[idx, 'Pred'] = all_preds[idx][0]"
   ]
  },
  {
   "cell_type": "code",
   "execution_count": 29,
   "metadata": {},
   "outputs": [],
   "source": [
    "# Export submission to csv\n",
    "games_2022_pred.to_csv('./sumissions/SUBMISSION_STAGE2.csv', index=False)"
   ]
  }
 ],
 "metadata": {
  "kernelspec": {
   "display_name": "Python 3 (ipykernel)",
   "language": "python",
   "name": "python3"
  },
  "language_info": {
   "codemirror_mode": {
    "name": "ipython",
    "version": 3
   },
   "file_extension": ".py",
   "mimetype": "text/x-python",
   "name": "python",
   "nbconvert_exporter": "python",
   "pygments_lexer": "ipython3",
   "version": "3.9.12"
  }
 },
 "nbformat": 4,
 "nbformat_minor": 4
}
