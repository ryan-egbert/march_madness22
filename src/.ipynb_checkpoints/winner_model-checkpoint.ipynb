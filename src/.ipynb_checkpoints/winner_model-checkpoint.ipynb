{
 "cells": [
  {
   "cell_type": "markdown",
   "id": "730e13bb",
   "metadata": {},
   "source": [
    "# Imports"
   ]
  },
  {
   "cell_type": "code",
   "execution_count": 1,
   "id": "f4def3f6",
   "metadata": {},
   "outputs": [],
   "source": [
    "import pandas as pd\n",
    "import numpy as np\n",
    "import csv\n",
    "from sklearn.model_selection import train_test_split\n",
    "import matplotlib.pyplot as plt"
   ]
  },
  {
   "cell_type": "markdown",
   "id": "0f0b3c2f",
   "metadata": {},
   "source": [
    "# Load in dataset"
   ]
  },
  {
   "cell_type": "code",
   "execution_count": 53,
   "id": "039b2605",
   "metadata": {
    "scrolled": true
   },
   "outputs": [
    {
     "name": "stderr",
     "output_type": "stream",
     "text": [
      "/var/folders/3m/1391qbxd3jg3m15k2d19w9qw0000gn/T/ipykernel_19836/3010323194.py:1: DtypeWarning: Columns (19,22,42,45) have mixed types. Specify dtype option on import or set low_memory=False.\n",
      "  df = pd.read_csv(\"../input/input_small.csv\")\n"
     ]
    }
   ],
   "source": [
    "df = pd.read_csv(\"../input/input_small.csv\")"
   ]
  },
  {
   "cell_type": "code",
   "execution_count": 54,
   "id": "70d9bcf5",
   "metadata": {},
   "outputs": [
    {
     "data": {
      "text/html": [
       "<div>\n",
       "<style scoped>\n",
       "    .dataframe tbody tr th:only-of-type {\n",
       "        vertical-align: middle;\n",
       "    }\n",
       "\n",
       "    .dataframe tbody tr th {\n",
       "        vertical-align: top;\n",
       "    }\n",
       "\n",
       "    .dataframe thead th {\n",
       "        text-align: right;\n",
       "    }\n",
       "</style>\n",
       "<table border=\"1\" class=\"dataframe\">\n",
       "  <thead>\n",
       "    <tr style=\"text-align: right;\">\n",
       "      <th></th>\n",
       "      <th>TEAM</th>\n",
       "      <th>RECORD_PCT</th>\n",
       "      <th>CONF_PCT</th>\n",
       "      <th>HOME_PCT</th>\n",
       "      <th>AWAY_PCT</th>\n",
       "      <th>VS_AP_PCT</th>\n",
       "      <th>PPG</th>\n",
       "      <th>ORBPG</th>\n",
       "      <th>DRBPG</th>\n",
       "      <th>APG</th>\n",
       "      <th>...</th>\n",
       "      <th>OPP_3PAPG</th>\n",
       "      <th>OPP_OBPI</th>\n",
       "      <th>OPP_DBPI</th>\n",
       "      <th>OPP_SOR</th>\n",
       "      <th>OPP_SOS</th>\n",
       "      <th>OPP_NCSOS</th>\n",
       "      <th>OPP_QUAL_WINS</th>\n",
       "      <th>OPP_QUALITY_INDICATOR</th>\n",
       "      <th>OPP_SCORE</th>\n",
       "      <th>WINNER</th>\n",
       "    </tr>\n",
       "  </thead>\n",
       "  <tbody>\n",
       "    <tr>\n",
       "      <th>0</th>\n",
       "      <td>Austin Peay Governors</td>\n",
       "      <td>0.686</td>\n",
       "      <td>0.686</td>\n",
       "      <td>0.686</td>\n",
       "      <td>0.686</td>\n",
       "      <td>0.0</td>\n",
       "      <td>74.6</td>\n",
       "      <td>10.117647</td>\n",
       "      <td>21.411765</td>\n",
       "      <td>14.4</td>\n",
       "      <td>...</td>\n",
       "      <td>20.647059</td>\n",
       "      <td>9.4</td>\n",
       "      <td>4.3</td>\n",
       "      <td>7</td>\n",
       "      <td>25</td>\n",
       "      <td>13</td>\n",
       "      <td>11</td>\n",
       "      <td>7.117647</td>\n",
       "      <td>74</td>\n",
       "      <td>1</td>\n",
       "    </tr>\n",
       "    <tr>\n",
       "      <th>1</th>\n",
       "      <td>Austin Peay Governors</td>\n",
       "      <td>0.686</td>\n",
       "      <td>0.686</td>\n",
       "      <td>0.686</td>\n",
       "      <td>0.686</td>\n",
       "      <td>0.0</td>\n",
       "      <td>74.6</td>\n",
       "      <td>10.117647</td>\n",
       "      <td>21.411765</td>\n",
       "      <td>14.4</td>\n",
       "      <td>...</td>\n",
       "      <td>22.424242</td>\n",
       "      <td>10.0</td>\n",
       "      <td>-1.6</td>\n",
       "      <td>26</td>\n",
       "      <td>81</td>\n",
       "      <td>243</td>\n",
       "      <td>4</td>\n",
       "      <td>1.777778</td>\n",
       "      <td>81</td>\n",
       "      <td>1</td>\n",
       "    </tr>\n",
       "    <tr>\n",
       "      <th>2</th>\n",
       "      <td>Austin Peay Governors</td>\n",
       "      <td>0.686</td>\n",
       "      <td>0.686</td>\n",
       "      <td>0.686</td>\n",
       "      <td>0.686</td>\n",
       "      <td>0.0</td>\n",
       "      <td>74.6</td>\n",
       "      <td>10.117647</td>\n",
       "      <td>21.411765</td>\n",
       "      <td>14.4</td>\n",
       "      <td>...</td>\n",
       "      <td>28.969697</td>\n",
       "      <td>6.8</td>\n",
       "      <td>-4.2</td>\n",
       "      <td>106</td>\n",
       "      <td>275</td>\n",
       "      <td>218</td>\n",
       "      <td>0</td>\n",
       "      <td>0.000000</td>\n",
       "      <td>56</td>\n",
       "      <td>0</td>\n",
       "    </tr>\n",
       "    <tr>\n",
       "      <th>3</th>\n",
       "      <td>Austin Peay Governors</td>\n",
       "      <td>0.686</td>\n",
       "      <td>0.686</td>\n",
       "      <td>0.686</td>\n",
       "      <td>0.686</td>\n",
       "      <td>0.0</td>\n",
       "      <td>74.6</td>\n",
       "      <td>10.117647</td>\n",
       "      <td>21.411765</td>\n",
       "      <td>14.4</td>\n",
       "      <td>...</td>\n",
       "      <td>14.794118</td>\n",
       "      <td>2.8</td>\n",
       "      <td>-0.8</td>\n",
       "      <td>128</td>\n",
       "      <td>268</td>\n",
       "      <td>291</td>\n",
       "      <td>0</td>\n",
       "      <td>0.000000</td>\n",
       "      <td>71</td>\n",
       "      <td>1</td>\n",
       "    </tr>\n",
       "    <tr>\n",
       "      <th>4</th>\n",
       "      <td>Austin Peay Governors</td>\n",
       "      <td>0.686</td>\n",
       "      <td>0.686</td>\n",
       "      <td>0.686</td>\n",
       "      <td>0.686</td>\n",
       "      <td>0.0</td>\n",
       "      <td>74.6</td>\n",
       "      <td>10.117647</td>\n",
       "      <td>21.411765</td>\n",
       "      <td>14.4</td>\n",
       "      <td>...</td>\n",
       "      <td>20.258065</td>\n",
       "      <td>-3.9</td>\n",
       "      <td>-5.2</td>\n",
       "      <td>300</td>\n",
       "      <td>221</td>\n",
       "      <td>85</td>\n",
       "      <td>0</td>\n",
       "      <td>0.000000</td>\n",
       "      <td>57</td>\n",
       "      <td>0</td>\n",
       "    </tr>\n",
       "  </tbody>\n",
       "</table>\n",
       "<p>5 rows × 47 columns</p>\n",
       "</div>"
      ],
      "text/plain": [
       "                    TEAM  RECORD_PCT  CONF_PCT  HOME_PCT  AWAY_PCT  VS_AP_PCT  \\\n",
       "0  Austin Peay Governors       0.686     0.686     0.686     0.686        0.0   \n",
       "1  Austin Peay Governors       0.686     0.686     0.686     0.686        0.0   \n",
       "2  Austin Peay Governors       0.686     0.686     0.686     0.686        0.0   \n",
       "3  Austin Peay Governors       0.686     0.686     0.686     0.686        0.0   \n",
       "4  Austin Peay Governors       0.686     0.686     0.686     0.686        0.0   \n",
       "\n",
       "    PPG      ORBPG      DRBPG   APG  ...  OPP_3PAPG  OPP_OBPI  OPP_DBPI  \\\n",
       "0  74.6  10.117647  21.411765  14.4  ...  20.647059       9.4       4.3   \n",
       "1  74.6  10.117647  21.411765  14.4  ...  22.424242      10.0      -1.6   \n",
       "2  74.6  10.117647  21.411765  14.4  ...  28.969697       6.8      -4.2   \n",
       "3  74.6  10.117647  21.411765  14.4  ...  14.794118       2.8      -0.8   \n",
       "4  74.6  10.117647  21.411765  14.4  ...  20.258065      -3.9      -5.2   \n",
       "\n",
       "   OPP_SOR  OPP_SOS  OPP_NCSOS  OPP_QUAL_WINS  OPP_QUALITY_INDICATOR  \\\n",
       "0        7       25         13             11               7.117647   \n",
       "1       26       81        243              4               1.777778   \n",
       "2      106      275        218              0               0.000000   \n",
       "3      128      268        291              0               0.000000   \n",
       "4      300      221         85              0               0.000000   \n",
       "\n",
       "   OPP_SCORE WINNER  \n",
       "0         74      1  \n",
       "1         81      1  \n",
       "2         56      0  \n",
       "3         71      1  \n",
       "4         57      0  \n",
       "\n",
       "[5 rows x 47 columns]"
      ]
     },
     "execution_count": 54,
     "metadata": {},
     "output_type": "execute_result"
    }
   ],
   "source": [
    "df.head()"
   ]
  },
  {
   "cell_type": "code",
   "execution_count": 55,
   "id": "f371e5c5",
   "metadata": {},
   "outputs": [],
   "source": [
    "df = df.dropna()"
   ]
  },
  {
   "cell_type": "markdown",
   "id": "377dd3e3",
   "metadata": {},
   "source": [
    "# Predict Score"
   ]
  },
  {
   "cell_type": "code",
   "execution_count": 56,
   "id": "f5a23009",
   "metadata": {},
   "outputs": [
    {
     "name": "stderr",
     "output_type": "stream",
     "text": [
      "/var/folders/3m/1391qbxd3jg3m15k2d19w9qw0000gn/T/ipykernel_19836/4144850189.py:1: SettingWithCopyWarning: \n",
      "A value is trying to be set on a copy of a slice from a DataFrame.\n",
      "Try using .loc[row_indexer,col_indexer] = value instead\n",
      "\n",
      "See the caveats in the documentation: https://pandas.pydata.org/pandas-docs/stable/user_guide/indexing.html#returning-a-view-versus-a-copy\n",
      "  df.NCSOS = df.NCSOS.apply(pd.to_numeric, errors=\"coerce\")\n",
      "/var/folders/3m/1391qbxd3jg3m15k2d19w9qw0000gn/T/ipykernel_19836/4144850189.py:2: SettingWithCopyWarning: \n",
      "A value is trying to be set on a copy of a slice from a DataFrame.\n",
      "Try using .loc[row_indexer,col_indexer] = value instead\n",
      "\n",
      "See the caveats in the documentation: https://pandas.pydata.org/pandas-docs/stable/user_guide/indexing.html#returning-a-view-versus-a-copy\n",
      "  df.OPP_NCSOS = df.OPP_NCSOS.apply(pd.to_numeric, errors=\"coerce\")\n",
      "/var/folders/3m/1391qbxd3jg3m15k2d19w9qw0000gn/T/ipykernel_19836/4144850189.py:3: SettingWithCopyWarning: \n",
      "A value is trying to be set on a copy of a slice from a DataFrame.\n",
      "Try using .loc[row_indexer,col_indexer] = value instead\n",
      "\n",
      "See the caveats in the documentation: https://pandas.pydata.org/pandas-docs/stable/user_guide/indexing.html#returning-a-view-versus-a-copy\n",
      "  df.SCORE = df.SCORE.apply(pd.to_numeric, errors=\"coerce\")\n",
      "/var/folders/3m/1391qbxd3jg3m15k2d19w9qw0000gn/T/ipykernel_19836/4144850189.py:4: SettingWithCopyWarning: \n",
      "A value is trying to be set on a copy of a slice from a DataFrame.\n",
      "Try using .loc[row_indexer,col_indexer] = value instead\n",
      "\n",
      "See the caveats in the documentation: https://pandas.pydata.org/pandas-docs/stable/user_guide/indexing.html#returning-a-view-versus-a-copy\n",
      "  df.OPP_SCORE = df.OPP_SCORE.apply(pd.to_numeric, errors=\"coerce\")\n"
     ]
    }
   ],
   "source": [
    "df.NCSOS = df.NCSOS.apply(pd.to_numeric, errors=\"coerce\")\n",
    "df.OPP_NCSOS = df.OPP_NCSOS.apply(pd.to_numeric, errors=\"coerce\")\n",
    "df.SCORE = df.SCORE.apply(pd.to_numeric, errors=\"coerce\")\n",
    "df.OPP_SCORE = df.OPP_SCORE.apply(pd.to_numeric, errors=\"coerce\")"
   ]
  },
  {
   "cell_type": "code",
   "execution_count": 57,
   "id": "3c5f841b",
   "metadata": {},
   "outputs": [
    {
     "ename": "AttributeError",
     "evalue": "'DataFrame' object has no attribute 'CONF'",
     "output_type": "error",
     "traceback": [
      "\u001b[0;31m---------------------------------------------------------------------------\u001b[0m",
      "\u001b[0;31mAttributeError\u001b[0m                            Traceback (most recent call last)",
      "Input \u001b[0;32mIn [57]\u001b[0m, in \u001b[0;36m<cell line: 3>\u001b[0;34m()\u001b[0m\n\u001b[1;32m      1\u001b[0m \u001b[38;5;28;01mfrom\u001b[39;00m \u001b[38;5;21;01msklearn\u001b[39;00m \u001b[38;5;28;01mimport\u001b[39;00m preprocessing\n\u001b[1;32m      2\u001b[0m le \u001b[38;5;241m=\u001b[39m preprocessing\u001b[38;5;241m.\u001b[39mLabelEncoder()\n\u001b[0;32m----> 3\u001b[0m le\u001b[38;5;241m.\u001b[39mfit(\u001b[43mdf\u001b[49m\u001b[38;5;241;43m.\u001b[39;49m\u001b[43mCONF\u001b[49m)\n\u001b[1;32m      4\u001b[0m df\u001b[38;5;241m.\u001b[39mCONF \u001b[38;5;241m=\u001b[39m le\u001b[38;5;241m.\u001b[39mtransform(df\u001b[38;5;241m.\u001b[39mCONF)\n\u001b[1;32m      5\u001b[0m df\u001b[38;5;241m.\u001b[39mOPP_CONF \u001b[38;5;241m=\u001b[39m le\u001b[38;5;241m.\u001b[39mtransform(df\u001b[38;5;241m.\u001b[39mOPP_CONF)\n",
      "File \u001b[0;32m~/rf/application/venv38/lib/python3.8/site-packages/pandas/core/generic.py:5583\u001b[0m, in \u001b[0;36mNDFrame.__getattr__\u001b[0;34m(self, name)\u001b[0m\n\u001b[1;32m   5576\u001b[0m \u001b[38;5;28;01mif\u001b[39;00m (\n\u001b[1;32m   5577\u001b[0m     name \u001b[38;5;129;01mnot\u001b[39;00m \u001b[38;5;129;01min\u001b[39;00m \u001b[38;5;28mself\u001b[39m\u001b[38;5;241m.\u001b[39m_internal_names_set\n\u001b[1;32m   5578\u001b[0m     \u001b[38;5;129;01mand\u001b[39;00m name \u001b[38;5;129;01mnot\u001b[39;00m \u001b[38;5;129;01min\u001b[39;00m \u001b[38;5;28mself\u001b[39m\u001b[38;5;241m.\u001b[39m_metadata\n\u001b[1;32m   5579\u001b[0m     \u001b[38;5;129;01mand\u001b[39;00m name \u001b[38;5;129;01mnot\u001b[39;00m \u001b[38;5;129;01min\u001b[39;00m \u001b[38;5;28mself\u001b[39m\u001b[38;5;241m.\u001b[39m_accessors\n\u001b[1;32m   5580\u001b[0m     \u001b[38;5;129;01mand\u001b[39;00m \u001b[38;5;28mself\u001b[39m\u001b[38;5;241m.\u001b[39m_info_axis\u001b[38;5;241m.\u001b[39m_can_hold_identifiers_and_holds_name(name)\n\u001b[1;32m   5581\u001b[0m ):\n\u001b[1;32m   5582\u001b[0m     \u001b[38;5;28;01mreturn\u001b[39;00m \u001b[38;5;28mself\u001b[39m[name]\n\u001b[0;32m-> 5583\u001b[0m \u001b[38;5;28;01mreturn\u001b[39;00m \u001b[38;5;28;43mobject\u001b[39;49m\u001b[38;5;241;43m.\u001b[39;49m\u001b[38;5;21;43m__getattribute__\u001b[39;49m\u001b[43m(\u001b[49m\u001b[38;5;28;43mself\u001b[39;49m\u001b[43m,\u001b[49m\u001b[43m \u001b[49m\u001b[43mname\u001b[49m\u001b[43m)\u001b[49m\n",
      "\u001b[0;31mAttributeError\u001b[0m: 'DataFrame' object has no attribute 'CONF'"
     ]
    }
   ],
   "source": [
    "from sklearn import preprocessing\n",
    "le = preprocessing.LabelEncoder()\n",
    "le.fit(df.CONF)\n",
    "df.CONF = le.transform(df.CONF)\n",
    "df.OPP_CONF = le.transform(df.OPP_CONF)"
   ]
  },
  {
   "cell_type": "code",
   "execution_count": 58,
   "id": "3a10c43f",
   "metadata": {},
   "outputs": [],
   "source": [
    "df = df.drop(columns=[\n",
    "#     \"OPP_SCORE\", \n",
    "#                       \"SCORE\",\n",
    "      \"WINNER\",\n",
    "      \"TEAM\",\n",
    "      \"OPP_TEAM\"])\n",
    "# Drop columns that don't contrubute much to the predictions\n",
    "# df = df.drop(columns=[])\n",
    "df = df.dropna()\n",
    "# y = df.WINNER\n",
    "y = df[[\"SCORE\", \"OPP_SCORE\"]]\n",
    "# y = pd.Dataframe({\"score\": df.SCORE, \"opp_score\": df.OPP_SCORE})\n",
    "# x = df.drop(columns=[\"WINNER\"])\n",
    "x = df.drop(columns=[\"SCORE\", \"OPP_SCORE\"])\n"
   ]
  },
  {
   "cell_type": "code",
   "execution_count": 59,
   "id": "0df54301",
   "metadata": {},
   "outputs": [],
   "source": [
    "train_x, test_x, train_y, test_y = train_test_split(x, y, test_size=0.25, random_state=31523)"
   ]
  },
  {
   "cell_type": "code",
   "execution_count": 60,
   "id": "ecd8e15a",
   "metadata": {},
   "outputs": [],
   "source": [
    "import time\n",
    "start = time.time()\n",
    "\n",
    "# rf = RandomForestClassifier(\n",
    "#     n_estimators=1500,\n",
    "#     min_samples_leaf=4,\n",
    "#     max_features='auto',\n",
    "#     max_depth=50,\n",
    "#     bootstrap=True)\n",
    "rf = RandomForestRegressor(\n",
    "    n_estimators=100,\n",
    "    min_samples_split=5,\n",
    "    min_samples_leaf=2,\n",
    "    max_features='sqrt',\n",
    "    max_depth=10,\n",
    "    bootstrap=True\n",
    ")\n",
    "rf.fit(train_x, train_y)\n",
    "\n",
    "end = time.time()\n",
    "\n",
    "# Log loss was the metric used in the Kaggle competition\n",
    "from sklearn.metrics import accuracy_score, log_loss\n",
    "from sklearn.metrics import mean_absolute_error"
   ]
  },
  {
   "cell_type": "code",
   "execution_count": 61,
   "id": "c4eee185",
   "metadata": {},
   "outputs": [
    {
     "data": {
      "text/plain": [
       "9.62608790397644"
      ]
     },
     "execution_count": 61,
     "metadata": {},
     "output_type": "execute_result"
    }
   ],
   "source": [
    "end - start"
   ]
  },
  {
   "cell_type": "code",
   "execution_count": 62,
   "id": "5a573680",
   "metadata": {},
   "outputs": [],
   "source": [
    "### Random Forest\n",
    "rf_pred = rf.predict(test_x)\n",
    "# rf_acc = accuracy_score(test_y, rf_pred)\n",
    "# rf_mae = mean_absolute_error(test_y, rf_pred)\n",
    "# print(f\"{'Random Forest MAE:':<20} ==> {rf_mae}\")\n",
    "# rf_predprob = rf.predict_proba(test_x)\n",
    "# print(f\"{'Random Forest':<20} ==> {round(rf_acc * 100, 2)}\")"
   ]
  },
  {
   "cell_type": "code",
   "execution_count": 63,
   "id": "b720b8fe",
   "metadata": {},
   "outputs": [],
   "source": [
    "# ### Logistic Regression\n",
    "# from sklearn.linear_model import LogisticRegression\n",
    "# log = LogisticRegression()\n",
    "# log.fit(train_x, train_y)"
   ]
  },
  {
   "cell_type": "code",
   "execution_count": 64,
   "id": "d63607e6",
   "metadata": {},
   "outputs": [],
   "source": [
    "# log_pred = log.predict(test_x)\n",
    "# log_acc = accuracy_score(test_y, log_pred)\n",
    "# log_mae = mean_absolute_error(test_y, log_pred)\n",
    "# print(f\"{'Logistic Regression MAE:':<20} ==> {log_mae}\")\n",
    "# log_predprob = log.predict_proba(test_x)\n",
    "# print(f\"{'Logistic Regression':<20} ==> {round(log_acc * 100, 2)}\")"
   ]
  },
  {
   "cell_type": "code",
   "execution_count": 65,
   "id": "b7a00f43",
   "metadata": {},
   "outputs": [
    {
     "data": {
      "text/html": [
       "<style>#sk-container-id-2 {color: black;background-color: white;}#sk-container-id-2 pre{padding: 0;}#sk-container-id-2 div.sk-toggleable {background-color: white;}#sk-container-id-2 label.sk-toggleable__label {cursor: pointer;display: block;width: 100%;margin-bottom: 0;padding: 0.3em;box-sizing: border-box;text-align: center;}#sk-container-id-2 label.sk-toggleable__label-arrow:before {content: \"▸\";float: left;margin-right: 0.25em;color: #696969;}#sk-container-id-2 label.sk-toggleable__label-arrow:hover:before {color: black;}#sk-container-id-2 div.sk-estimator:hover label.sk-toggleable__label-arrow:before {color: black;}#sk-container-id-2 div.sk-toggleable__content {max-height: 0;max-width: 0;overflow: hidden;text-align: left;background-color: #f0f8ff;}#sk-container-id-2 div.sk-toggleable__content pre {margin: 0.2em;color: black;border-radius: 0.25em;background-color: #f0f8ff;}#sk-container-id-2 input.sk-toggleable__control:checked~div.sk-toggleable__content {max-height: 200px;max-width: 100%;overflow: auto;}#sk-container-id-2 input.sk-toggleable__control:checked~label.sk-toggleable__label-arrow:before {content: \"▾\";}#sk-container-id-2 div.sk-estimator input.sk-toggleable__control:checked~label.sk-toggleable__label {background-color: #d4ebff;}#sk-container-id-2 div.sk-label input.sk-toggleable__control:checked~label.sk-toggleable__label {background-color: #d4ebff;}#sk-container-id-2 input.sk-hidden--visually {border: 0;clip: rect(1px 1px 1px 1px);clip: rect(1px, 1px, 1px, 1px);height: 1px;margin: -1px;overflow: hidden;padding: 0;position: absolute;width: 1px;}#sk-container-id-2 div.sk-estimator {font-family: monospace;background-color: #f0f8ff;border: 1px dotted black;border-radius: 0.25em;box-sizing: border-box;margin-bottom: 0.5em;}#sk-container-id-2 div.sk-estimator:hover {background-color: #d4ebff;}#sk-container-id-2 div.sk-parallel-item::after {content: \"\";width: 100%;border-bottom: 1px solid gray;flex-grow: 1;}#sk-container-id-2 div.sk-label:hover label.sk-toggleable__label {background-color: #d4ebff;}#sk-container-id-2 div.sk-serial::before {content: \"\";position: absolute;border-left: 1px solid gray;box-sizing: border-box;top: 0;bottom: 0;left: 50%;z-index: 0;}#sk-container-id-2 div.sk-serial {display: flex;flex-direction: column;align-items: center;background-color: white;padding-right: 0.2em;padding-left: 0.2em;position: relative;}#sk-container-id-2 div.sk-item {position: relative;z-index: 1;}#sk-container-id-2 div.sk-parallel {display: flex;align-items: stretch;justify-content: center;background-color: white;position: relative;}#sk-container-id-2 div.sk-item::before, #sk-container-id-2 div.sk-parallel-item::before {content: \"\";position: absolute;border-left: 1px solid gray;box-sizing: border-box;top: 0;bottom: 0;left: 50%;z-index: -1;}#sk-container-id-2 div.sk-parallel-item {display: flex;flex-direction: column;z-index: 1;position: relative;background-color: white;}#sk-container-id-2 div.sk-parallel-item:first-child::after {align-self: flex-end;width: 50%;}#sk-container-id-2 div.sk-parallel-item:last-child::after {align-self: flex-start;width: 50%;}#sk-container-id-2 div.sk-parallel-item:only-child::after {width: 0;}#sk-container-id-2 div.sk-dashed-wrapped {border: 1px dashed gray;margin: 0 0.4em 0.5em 0.4em;box-sizing: border-box;padding-bottom: 0.4em;background-color: white;}#sk-container-id-2 div.sk-label label {font-family: monospace;font-weight: bold;display: inline-block;line-height: 1.2em;}#sk-container-id-2 div.sk-label-container {text-align: center;}#sk-container-id-2 div.sk-container {/* jupyter's `normalize.less` sets `[hidden] { display: none; }` but bootstrap.min.css set `[hidden] { display: none !important; }` so we also need the `!important` here to be able to override the default hidden behavior on the sphinx rendered scikit-learn.org. See: https://github.com/scikit-learn/scikit-learn/issues/21755 */display: inline-block !important;position: relative;}#sk-container-id-2 div.sk-text-repr-fallback {display: none;}</style><div id=\"sk-container-id-2\" class=\"sk-top-container\"><div class=\"sk-text-repr-fallback\"><pre>MLPRegressor(hidden_layer_sizes=(10, 50, 10, 50, 10))</pre><b>In a Jupyter environment, please rerun this cell to show the HTML representation or trust the notebook. <br />On GitHub, the HTML representation is unable to render, please try loading this page with nbviewer.org.</b></div><div class=\"sk-container\" hidden><div class=\"sk-item\"><div class=\"sk-estimator sk-toggleable\"><input class=\"sk-toggleable__control sk-hidden--visually\" id=\"sk-estimator-id-4\" type=\"checkbox\" checked><label for=\"sk-estimator-id-4\" class=\"sk-toggleable__label sk-toggleable__label-arrow\">MLPRegressor</label><div class=\"sk-toggleable__content\"><pre>MLPRegressor(hidden_layer_sizes=(10, 50, 10, 50, 10))</pre></div></div></div></div></div>"
      ],
      "text/plain": [
       "MLPRegressor(hidden_layer_sizes=(10, 50, 10, 50, 10))"
      ]
     },
     "execution_count": 65,
     "metadata": {},
     "output_type": "execute_result"
    }
   ],
   "source": [
    "### ANN\n",
    "from sklearn.neural_network import MLPClassifier, MLPRegressor\n",
    "# ann = MLPClassifier(hidden_layer_sizes = (50,100,25,20))\n",
    "ann = MLPRegressor(hidden_layer_sizes = (10,50,10,50,10))\n",
    "ann.fit(train_x, train_y)"
   ]
  },
  {
   "cell_type": "code",
   "execution_count": 66,
   "id": "9cd74811",
   "metadata": {},
   "outputs": [],
   "source": [
    "### ANN\n",
    "ann_pred = ann.predict(test_x)\n",
    "# ann_acc = accuracy_score(test_y, ann_pred)\n",
    "# ann_mae = mean_absolute_error(test_y, ann_pred)\n",
    "# print(f\"{'Neural Net MAE:':<20} ==> {ann_mae}\")\n",
    "# ann_predprob = ann.predict_proba(test_x)\n",
    "# print(f\"{'Neural Net':<20} ==> {round(ann_acc * 100, 2)}\")"
   ]
  },
  {
   "cell_type": "code",
   "execution_count": 67,
   "id": "603d6ba0",
   "metadata": {
    "scrolled": true
   },
   "outputs": [
    {
     "data": {
      "text/html": [
       "<style>#sk-container-id-3 {color: black;background-color: white;}#sk-container-id-3 pre{padding: 0;}#sk-container-id-3 div.sk-toggleable {background-color: white;}#sk-container-id-3 label.sk-toggleable__label {cursor: pointer;display: block;width: 100%;margin-bottom: 0;padding: 0.3em;box-sizing: border-box;text-align: center;}#sk-container-id-3 label.sk-toggleable__label-arrow:before {content: \"▸\";float: left;margin-right: 0.25em;color: #696969;}#sk-container-id-3 label.sk-toggleable__label-arrow:hover:before {color: black;}#sk-container-id-3 div.sk-estimator:hover label.sk-toggleable__label-arrow:before {color: black;}#sk-container-id-3 div.sk-toggleable__content {max-height: 0;max-width: 0;overflow: hidden;text-align: left;background-color: #f0f8ff;}#sk-container-id-3 div.sk-toggleable__content pre {margin: 0.2em;color: black;border-radius: 0.25em;background-color: #f0f8ff;}#sk-container-id-3 input.sk-toggleable__control:checked~div.sk-toggleable__content {max-height: 200px;max-width: 100%;overflow: auto;}#sk-container-id-3 input.sk-toggleable__control:checked~label.sk-toggleable__label-arrow:before {content: \"▾\";}#sk-container-id-3 div.sk-estimator input.sk-toggleable__control:checked~label.sk-toggleable__label {background-color: #d4ebff;}#sk-container-id-3 div.sk-label input.sk-toggleable__control:checked~label.sk-toggleable__label {background-color: #d4ebff;}#sk-container-id-3 input.sk-hidden--visually {border: 0;clip: rect(1px 1px 1px 1px);clip: rect(1px, 1px, 1px, 1px);height: 1px;margin: -1px;overflow: hidden;padding: 0;position: absolute;width: 1px;}#sk-container-id-3 div.sk-estimator {font-family: monospace;background-color: #f0f8ff;border: 1px dotted black;border-radius: 0.25em;box-sizing: border-box;margin-bottom: 0.5em;}#sk-container-id-3 div.sk-estimator:hover {background-color: #d4ebff;}#sk-container-id-3 div.sk-parallel-item::after {content: \"\";width: 100%;border-bottom: 1px solid gray;flex-grow: 1;}#sk-container-id-3 div.sk-label:hover label.sk-toggleable__label {background-color: #d4ebff;}#sk-container-id-3 div.sk-serial::before {content: \"\";position: absolute;border-left: 1px solid gray;box-sizing: border-box;top: 0;bottom: 0;left: 50%;z-index: 0;}#sk-container-id-3 div.sk-serial {display: flex;flex-direction: column;align-items: center;background-color: white;padding-right: 0.2em;padding-left: 0.2em;position: relative;}#sk-container-id-3 div.sk-item {position: relative;z-index: 1;}#sk-container-id-3 div.sk-parallel {display: flex;align-items: stretch;justify-content: center;background-color: white;position: relative;}#sk-container-id-3 div.sk-item::before, #sk-container-id-3 div.sk-parallel-item::before {content: \"\";position: absolute;border-left: 1px solid gray;box-sizing: border-box;top: 0;bottom: 0;left: 50%;z-index: -1;}#sk-container-id-3 div.sk-parallel-item {display: flex;flex-direction: column;z-index: 1;position: relative;background-color: white;}#sk-container-id-3 div.sk-parallel-item:first-child::after {align-self: flex-end;width: 50%;}#sk-container-id-3 div.sk-parallel-item:last-child::after {align-self: flex-start;width: 50%;}#sk-container-id-3 div.sk-parallel-item:only-child::after {width: 0;}#sk-container-id-3 div.sk-dashed-wrapped {border: 1px dashed gray;margin: 0 0.4em 0.5em 0.4em;box-sizing: border-box;padding-bottom: 0.4em;background-color: white;}#sk-container-id-3 div.sk-label label {font-family: monospace;font-weight: bold;display: inline-block;line-height: 1.2em;}#sk-container-id-3 div.sk-label-container {text-align: center;}#sk-container-id-3 div.sk-container {/* jupyter's `normalize.less` sets `[hidden] { display: none; }` but bootstrap.min.css set `[hidden] { display: none !important; }` so we also need the `!important` here to be able to override the default hidden behavior on the sphinx rendered scikit-learn.org. See: https://github.com/scikit-learn/scikit-learn/issues/21755 */display: inline-block !important;position: relative;}#sk-container-id-3 div.sk-text-repr-fallback {display: none;}</style><div id=\"sk-container-id-3\" class=\"sk-top-container\"><div class=\"sk-text-repr-fallback\"><pre>LinearRegression()</pre><b>In a Jupyter environment, please rerun this cell to show the HTML representation or trust the notebook. <br />On GitHub, the HTML representation is unable to render, please try loading this page with nbviewer.org.</b></div><div class=\"sk-container\" hidden><div class=\"sk-item\"><div class=\"sk-estimator sk-toggleable\"><input class=\"sk-toggleable__control sk-hidden--visually\" id=\"sk-estimator-id-5\" type=\"checkbox\" checked><label for=\"sk-estimator-id-5\" class=\"sk-toggleable__label sk-toggleable__label-arrow\">LinearRegression</label><div class=\"sk-toggleable__content\"><pre>LinearRegression()</pre></div></div></div></div></div>"
      ],
      "text/plain": [
       "LinearRegression()"
      ]
     },
     "execution_count": 67,
     "metadata": {},
     "output_type": "execute_result"
    }
   ],
   "source": [
    "# Linear Regression\n",
    "from sklearn.linear_model import LinearRegression\n",
    "lin = LinearRegression()\n",
    "lin.fit(train_x, train_y)"
   ]
  },
  {
   "cell_type": "code",
   "execution_count": 68,
   "id": "cdddfd11",
   "metadata": {},
   "outputs": [
    {
     "name": "stdout",
     "output_type": "stream",
     "text": [
      "Linear Regression MAE: ==> 7.6248203862135915\n",
      "Linear Regression (r-squared) ==> 0.3942586109667759\n"
     ]
    }
   ],
   "source": [
    "from sklearn.metrics import mean_absolute_error\n",
    "lin_pred = lin.predict(test_x)\n",
    "lin_acc = lin.score(test_x, test_y)\n",
    "lin_mae = mean_absolute_error(test_y, lin_pred)\n",
    "print(f\"{'Linear Regression MAE:':<20} ==> {lin_mae}\")\n",
    "print(f\"{'Linear Regression (r-squared)':<20} ==> {lin_acc}\")"
   ]
  },
  {
   "cell_type": "code",
   "execution_count": 69,
   "id": "fcf13a80",
   "metadata": {},
   "outputs": [
    {
     "data": {
      "text/plain": [
       "array([[59.80997148, 73.48151081],\n",
       "       [76.59566782, 69.93669348],\n",
       "       [69.39825822, 63.54360753],\n",
       "       [78.41957297, 73.75856531],\n",
       "       [78.46013271, 67.92306723],\n",
       "       [68.545909  , 80.52638016],\n",
       "       [63.7071792 , 63.05014506],\n",
       "       [60.03300609, 58.95069263],\n",
       "       [69.95945085, 73.14613143],\n",
       "       [70.22172681, 72.6853523 ]])"
      ]
     },
     "execution_count": 69,
     "metadata": {},
     "output_type": "execute_result"
    }
   ],
   "source": [
    "lin_pred[:10]"
   ]
  },
  {
   "cell_type": "code",
   "execution_count": 71,
   "id": "0cc23a17",
   "metadata": {
    "scrolled": true
   },
   "outputs": [
    {
     "data": {
      "text/plain": [
       "array([[62., 80.],\n",
       "       [80., 79.],\n",
       "       [63., 45.],\n",
       "       [61., 68.],\n",
       "       [66., 75.],\n",
       "       [75., 80.],\n",
       "       [60., 66.],\n",
       "       [65., 54.],\n",
       "       [51., 64.],\n",
       "       [63., 72.]])"
      ]
     },
     "execution_count": 71,
     "metadata": {},
     "output_type": "execute_result"
    }
   ],
   "source": [
    "test_y[:10].to_numpy()"
   ]
  },
  {
   "cell_type": "code",
   "execution_count": 72,
   "id": "49b90fc9",
   "metadata": {},
   "outputs": [],
   "source": [
    "# Feature importances\n",
    "importances = rf.feature_importances_\n",
    "std = np.std([tree.feature_importances_ for tree in rf.estimators_], axis=0)"
   ]
  },
  {
   "cell_type": "code",
   "execution_count": 73,
   "id": "fb7fbfc1",
   "metadata": {},
   "outputs": [
    {
     "data": {
      "image/png": "[encoded data removed]",
      "text/plain": [
       "<Figure size 720x432 with 1 Axes>"
      ]
     },
     "metadata": {
      "needs_background": "light"
     },
     "output_type": "display_data"
    }
   ],
   "source": [
    "feature_names = list(x for x in df.columns if \"SCORE\" not in x)\n",
    "forest_importances = pd.Series(importances, index=feature_names).sort_values()\n",
    "fig, ax = plt.subplots(figsize=(10, 6))\n",
    "forest_importances.plot.bar(ax=ax)\n",
    "ax.set_title(\"Variable Importances\")\n",
    "ax.set_ylabel(\"Impurity Decrease\")\n",
    "fig.tight_layout()"
   ]
  },
  {
   "cell_type": "code",
   "execution_count": 34,
   "id": "0762c1fa",
   "metadata": {},
   "outputs": [],
   "source": [
    "def analyze_predicted_scores(predictions, actual_scores):\n",
    "    total_scores = len(predictions)\n",
    "    if total_scores != len(actual_scores):\n",
    "        print(\"Array lengths don't line up!\")\n",
    "        return -1\n",
    "    correct = 0\n",
    "    for i in range(total_scores):\n",
    "        pred = predictions[i]\n",
    "        score = actual_scores[i]\n",
    "        if pred[0] > pred[1] and score[0] > score[1] or \\\n",
    "            pred[0] < pred[1] and score[0] < score[1]:\n",
    "            correct += 1\n",
    "#         else:\n",
    "#             print(f\"Incorrect: Prediction({pred}) --> Score({score})\")\n",
    "            \n",
    "    return correct/total_scores"
   ]
  },
  {
   "cell_type": "code",
   "execution_count": 74,
   "id": "c1c1d660",
   "metadata": {},
   "outputs": [
    {
     "data": {
      "text/plain": [
       "0.7521193092621664"
      ]
     },
     "execution_count": 74,
     "metadata": {},
     "output_type": "execute_result"
    }
   ],
   "source": [
    "analyze_predicted_scores(lin_pred, test_y.to_numpy())"
   ]
  },
  {
   "cell_type": "code",
   "execution_count": 75,
   "id": "fe862ac0",
   "metadata": {},
   "outputs": [
    {
     "data": {
      "text/plain": [
       "0.7520669806384092"
      ]
     },
     "execution_count": 75,
     "metadata": {},
     "output_type": "execute_result"
    }
   ],
   "source": [
    "analyze_predicted_scores(rf_pred, test_y.to_numpy())"
   ]
  },
  {
   "cell_type": "code",
   "execution_count": 76,
   "id": "df8a09a2",
   "metadata": {},
   "outputs": [
    {
     "data": {
      "text/plain": [
       "0.7525902668759812"
      ]
     },
     "execution_count": 76,
     "metadata": {},
     "output_type": "execute_result"
    }
   ],
   "source": [
    "analyze_predicted_scores(ann_pred, test_y.to_numpy())"
   ]
  },
  {
   "cell_type": "code",
   "execution_count": 36,
   "id": "805a5341",
   "metadata": {},
   "outputs": [],
   "source": [
    "import pickle as pck"
   ]
  },
  {
   "cell_type": "code",
   "execution_count": 37,
   "id": "973b340d",
   "metadata": {},
   "outputs": [],
   "source": [
    "with open(\"rf_regressor.pck\", 'wb') as f:\n",
    "    pck.dump(rf, f)"
   ]
  },
  {
   "cell_type": "code",
   "execution_count": null,
   "id": "2b2cf6f3",
   "metadata": {},
   "outputs": [],
   "source": []
  }
 ],
 "metadata": {
  "kernelspec": {
   "display_name": "venv38",
   "language": "python",
   "name": "venv38"
  },
  "language_info": {
   "codemirror_mode": {
    "name": "ipython",
    "version": 3
   },
   "file_extension": ".py",
   "mimetype": "text/x-python",
   "name": "python",
   "nbconvert_exporter": "python",
   "pygments_lexer": "ipython3",
   "version": "3.8.10"
  }
 },
 "nbformat": 4,
 "nbformat_minor": 5
}
