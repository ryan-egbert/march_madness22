{
 "cells": [
  {
   "cell_type": "code",
   "execution_count": 28,
   "id": "516f74f5",
   "metadata": {},
   "outputs": [],
   "source": [
    "import json\n",
    "import pandas as pd"
   ]
  },
  {
   "cell_type": "code",
   "execution_count": 32,
   "id": "762afb7e",
   "metadata": {},
   "outputs": [],
   "source": [
    "def build_espn_map():\n",
    "    with open(\"../output/espn_to_net_map.json\", 'r') as f:\n",
    "        espn_map = json.load(f)\n",
    "        return espn_map"
   ]
  },
  {
   "cell_type": "code",
   "execution_count": 33,
   "id": "ffd72823",
   "metadata": {},
   "outputs": [],
   "source": [
    "espn_inv_map = {v.lower(): k for k, v in build_espn_map().items()}"
   ]
  },
  {
   "cell_type": "code",
   "execution_count": 34,
   "id": "45a9cfc6",
   "metadata": {},
   "outputs": [],
   "source": [
    "names = pd.read_csv(\"../data/MDataFiles_Stage1/MTeamSpellings.csv\")"
   ]
  },
  {
   "cell_type": "code",
   "execution_count": 35,
   "id": "620a57dd",
   "metadata": {},
   "outputs": [
    {
     "data": {
      "text/plain": [
       "'46'"
      ]
     },
     "execution_count": 35,
     "metadata": {},
     "output_type": "execute_result"
    }
   ],
   "source": [
    "espn_inv_map['georgetown']"
   ]
  },
  {
   "cell_type": "code",
   "execution_count": 36,
   "id": "0b6d9125",
   "metadata": {},
   "outputs": [],
   "source": [
    "kaggle_map = {}"
   ]
  },
  {
   "cell_type": "code",
   "execution_count": 37,
   "id": "d50cf8fb",
   "metadata": {},
   "outputs": [],
   "source": [
    "for idx, row in names.iterrows():\n",
    "    if row.TeamNameSpelling in espn_inv_map:\n",
    "        kaggle_map[row.TeamID] = espn_inv_map[row.TeamNameSpelling]"
   ]
  },
  {
   "cell_type": "code",
   "execution_count": 38,
   "id": "7c135f01",
   "metadata": {
    "scrolled": true
   },
   "outputs": [
    {
     "data": {
      "text/plain": [
       "{'88': 'Southern Ind.',\n",
       " '140': 'Kansas City',\n",
       " '284': 'Stonehill',\n",
       " '399': 'UAlbany',\n",
       " '2026': 'App State',\n",
       " '2277': 'Houston Christian',\n",
       " '2351': 'LMU (CA)',\n",
       " '2459': 'NIU',\n",
       " '2511': 'Queens (NC)',\n",
       " '2534': 'Sam Houston',\n",
       " '2627': 'Tarleton St.',\n",
       " '2815': 'Lindenwood',\n",
       " '2837': 'Tex. A&M-Commerce',\n",
       " '2900': 'St. Thomas (MN)',\n",
       " '2916': 'UIW',\n",
       " '3101': 'Utah Tech',\n",
       " '112358': 'LIU'}"
      ]
     },
     "execution_count": 38,
     "metadata": {},
     "output_type": "execute_result"
    }
   ],
   "source": [
    "espn_map = build_espn_map()\n",
    "for kid, eid in kaggle_map.items():\n",
    "    del espn_map[eid]\n",
    "    \n",
    "espn_map"
   ]
  },
  {
   "cell_type": "code",
   "execution_count": 39,
   "id": "d7d60cf0",
   "metadata": {},
   "outputs": [],
   "source": [
    "with open(\"../output/kaggle_mens_map.json\", 'w') as o:\n",
    "    json.dump(kaggle_map, o)"
   ]
  },
  {
   "cell_type": "code",
   "execution_count": null,
   "id": "9b7301d4",
   "metadata": {},
   "outputs": [],
   "source": []
  }
 ],
 "metadata": {
  "kernelspec": {
   "display_name": "venv38",
   "language": "python",
   "name": "venv38"
  },
  "language_info": {
   "codemirror_mode": {
    "name": "ipython",
    "version": 3
   },
   "file_extension": ".py",
   "mimetype": "text/x-python",
   "name": "python",
   "nbconvert_exporter": "python",
   "pygments_lexer": "ipython3",
   "version": "3.8.10"
  }
 },
 "nbformat": 4,
 "nbformat_minor": 5
}
