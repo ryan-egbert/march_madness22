{
 "cells": [
  {
   "cell_type": "code",
   "execution_count": 1,
   "id": "d910253f",
   "metadata": {},
   "outputs": [],
   "source": [
    "import pandas as pd"
   ]
  },
  {
   "cell_type": "code",
   "execution_count": 4,
   "id": "70471565",
   "metadata": {},
   "outputs": [],
   "source": [
    "seeds = pd.read_csv(\"MNCAATourneySeeds.csv\")"
   ]
  },
  {
   "cell_type": "code",
   "execution_count": 9,
   "id": "f1682bd6",
   "metadata": {},
   "outputs": [],
   "source": [
    "import json\n",
    "with open(\"output/kaggle_map.json\",'r') as f:\n",
    "    kaggle_map = json.load(f)"
   ]
  },
  {
   "cell_type": "code",
   "execution_count": 11,
   "id": "f408e3df",
   "metadata": {},
   "outputs": [],
   "source": [
    "with open(\"output/espn_teams.json\", 'r') as f:\n",
    "    espn_teams = json.load(f)"
   ]
  },
  {
   "cell_type": "code",
   "execution_count": 15,
   "id": "fc117123",
   "metadata": {},
   "outputs": [],
   "source": [
    "for idx, row in seeds.iterrows():\n",
    "    id_ = row.TeamID\n",
    "    espn_id = kaggle_map[str(id_)]\n",
    "    espn_name = espn_teams[espn_id]\n",
    "    seeds.loc[idx,\"Name\"] = espn_name.get(\"name\")"
   ]
  },
  {
   "cell_type": "code",
   "execution_count": null,
   "id": "66e33422",
   "metadata": {},
   "outputs": [],
   "source": []
  }
 ],
 "metadata": {
  "kernelspec": {
   "display_name": "venv38",
   "language": "python",
   "name": "venv38"
  },
  "language_info": {
   "codemirror_mode": {
    "name": "ipython",
    "version": 3
   },
   "file_extension": ".py",
   "mimetype": "text/x-python",
   "name": "python",
   "nbconvert_exporter": "python",
   "pygments_lexer": "ipython3",
   "version": "3.8.10"
  }
 },
 "nbformat": 4,
 "nbformat_minor": 5
}
